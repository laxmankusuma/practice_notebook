{
  "nbformat": 4,
  "nbformat_minor": 0,
  "metadata": {
    "colab": {
      "name": "Predict Future Sales_kaggle.ipynb",
      "provenance": [],
      "authorship_tag": "ABX9TyOXPT23V15Slbq1fvLk3qb1",
      "include_colab_link": true
    },
    "kernelspec": {
      "name": "python3",
      "display_name": "Python 3"
    }
  },
  "cells": [
    {
      "cell_type": "markdown",
      "metadata": {
        "id": "view-in-github",
        "colab_type": "text"
      },
      "source": [
        "<a href=\"https://colab.research.google.com/github/laxmankusuma/practice_notebook/blob/master/Predict_Future_Sales_kaggle.ipynb\" target=\"_parent\"><img src=\"https://colab.research.google.com/assets/colab-badge.svg\" alt=\"Open In Colab\"/></a>"
      ]
    },
    {
      "cell_type": "markdown",
      "metadata": {
        "id": "_U73VY5lstBY"
      },
      "source": [
        "# Predict Future Sales"
      ]
    },
    {
      "cell_type": "markdown",
      "metadata": {
        "id": "HBzqbx0Bss-x"
      },
      "source": [
        "### https://www.kaggle.com/c/competitive-data-science-predict-future-sales/data"
      ]
    },
    {
      "cell_type": "markdown",
      "metadata": {
        "id": "Pp438egass8I"
      },
      "source": [
        "You are provided with daily historical sales data. The task is to forecast the total amount of products sold in every shop for the test set. Note that the list of shops and products slightly changes every month. Creating a robust model that can handle such situations is part of the challenge."
      ]
    },
    {
      "cell_type": "markdown",
      "metadata": {
        "id": "daiTn5n_ss5I"
      },
      "source": [
        "## File descriptions"
      ]
    },
    {
      "cell_type": "markdown",
      "metadata": {
        "id": "FVX0I92Gss2Z"
      },
      "source": [
        "**sales_train.csv** - the training set. Daily historical data from January 2013 to October 2015.\r\n",
        "\r\n",
        "**test.csv** - the test set. You need to forecast the sales for these shops and products for November 2015.\r\n",
        "\r\n",
        "**sample_submission.csv** - a sample submission file in the correct format.\r\n",
        "\r\n",
        "**items.csv** - supplemental information about the items/products.\r\n",
        "\r\n",
        "**item_categories.csv**  - supplemental information about the items categories.\r\n",
        "\r\n",
        "**shops.csv**- supplemental information about the shops."
      ]
    },
    {
      "cell_type": "markdown",
      "metadata": {
        "id": "9SqnfTkXsszA"
      },
      "source": [
        "**Data fields**\r\n",
        "\r\n",
        "**ID** - an Id that represents a (Shop, Item) tuple within the test set\r\n",
        "\r\n",
        "**shop_id** - unique identifier of a shop\r\n",
        "\r\n",
        "**item_id** - unique identifier of a product\r\n",
        "\r\n",
        "**item_category_id** - unique identifier of item category\r\n",
        "\r\n",
        "**item_cnt_day** - number of products sold. You are predicting a monthly amount of this measure\r\n",
        "\r\n",
        "**item_price** - current price of an item\r\n",
        "\r\n",
        "**date** - date in format dd/mm/yyyy\r\n",
        "\r\n",
        "**date_block_num** - a consecutive month number, used for convenience. January \r\n",
        "2013 is 0, February 2013 is 1,..., October 2015 is 33\r\n",
        "\r\n",
        "**item_name** - name of item\r\n",
        "\r\n",
        "**shop_name** - name of shop\r\n",
        "\r\n",
        "**item_category_name** - name of item category"
      ]
    },
    {
      "cell_type": "markdown",
      "metadata": {
        "id": "aVJQ9vcqssrJ"
      },
      "source": [
        "**Pipline**\r\n",
        "\r\n",
        "load data\r\n",
        "\r\n",
        "heal data and remove outliers\r\n",
        "\r\n",
        "work with shops/items/cats objects and features\r\n",
        "\r\n",
        "create matrix as product of item/shop pairs within each month in the train set\r\n",
        "\r\n",
        "get monthly sales for each item/shop pair in the train set and merge it to the matrix\r\n",
        "\r\n",
        "clip item_cnt_month by (0,20)\r\n",
        "\r\n",
        "append test to the matrix, fill 34 month nans with zeros\r\n",
        "\r\n",
        "merge shops/items/cats to the matrix\r\n",
        "\r\n",
        "add target lag features\r\n",
        "\r\n",
        "add mean encoded features\r\n",
        "\r\n",
        "add price trend features\r\n",
        "\r\n",
        "add month\r\n",
        "\r\n",
        "add days\r\n",
        "\r\n",
        "add months since last sale/months since first sale features\r\n",
        "\r\n",
        "cut first year and drop columns which can not be calculated for the test set\r\n",
        "\r\n",
        "select best features\r\n",
        "\r\n",
        "set validation strategy 34 test, 33 validation, less than 33 train\r\n",
        "\r\n",
        "fit the model, predict and clip targets for the test set"
      ]
    },
    {
      "cell_type": "markdown",
      "metadata": {
        "id": "Je2u-HjMssYp"
      },
      "source": [
        "## Part 1, perfect features"
      ]
    },
    {
      "cell_type": "code",
      "metadata": {
        "colab": {
          "base_uri": "https://localhost:8080/"
        },
        "id": "ZMhon1lYso2q",
        "outputId": "cf82d080-e5c8-4bdf-bd0e-842182fd12ce"
      },
      "source": [
        "import numpy as np\r\n",
        "import pandas as pd\r\n",
        "# setting for the display\r\n",
        "pd.set_option('display.max_rows', 500)\r\n",
        "pd.set_option('display.max_columns',100)\r\n",
        "\r\n",
        "from itertools import product\r\n",
        "from sklearn.preprocessing import LabelEncoder\r\n",
        "\r\n",
        "import seaborn as sns\r\n",
        "import matplotlib.pyplot as plt\r\n",
        "%matplotlib inline\r\n",
        "\r\n",
        "from xgboost import XGBRegressor\r\n",
        "from xgboost import plot_importance\r\n",
        "\r\n",
        "def plot_features(booster, figsize):\r\n",
        "  fig, ax = plt.subplots(1,1,figsize=figsize)\r\n",
        "  return plot_importance(booster=booster, ax=ax)\r\n",
        "\r\n",
        "import time\r\n",
        "import sys\r\n",
        "import gc\r\n",
        "import pickle\r\n",
        "sys.version_info"
      ],
      "execution_count": 1,
      "outputs": [
        {
          "output_type": "execute_result",
          "data": {
            "text/plain": [
              "sys.version_info(major=3, minor=7, micro=10, releaselevel='final', serial=0)"
            ]
          },
          "metadata": {
            "tags": []
          },
          "execution_count": 1
        }
      ]
    },
    {
      "cell_type": "code",
      "metadata": {
        "colab": {
          "base_uri": "https://localhost:8080/"
        },
        "id": "r6bVx5kjw1Cl",
        "outputId": "8ea2942c-0bf3-4a46-d3a8-c8584b9d793b"
      },
      "source": [
        "#Google Colab: how to read data from my google drive?\r\n",
        "from google.colab import drive\r\n",
        "drive.mount('/content/drive')"
      ],
      "execution_count": 3,
      "outputs": [
        {
          "output_type": "stream",
          "text": [
            "Drive already mounted at /content/drive; to attempt to forcibly remount, call drive.mount(\"/content/drive\", force_remount=True).\n"
          ],
          "name": "stdout"
        }
      ]
    },
    {
      "cell_type": "code",
      "metadata": {
        "colab": {
          "base_uri": "https://localhost:8080/"
        },
        "id": "caCXSZXuxJQH",
        "outputId": "8294a888-ffad-4d5c-fdb0-c28db187d0f9"
      },
      "source": [
        "!ls /content/drive"
      ],
      "execution_count": 4,
      "outputs": [
        {
          "output_type": "stream",
          "text": [
            "MyDrive\n"
          ],
          "name": "stdout"
        }
      ]
    },
    {
      "cell_type": "code",
      "metadata": {
        "colab": {
          "base_uri": "https://localhost:8080/"
        },
        "id": "9xBsDZHCxqN3",
        "outputId": "8b808a0e-c3bb-4ff7-a663-ce85e731918b"
      },
      "source": [
        "!ls /content/drive/MyDrive"
      ],
      "execution_count": 5,
      "outputs": [
        {
          "output_type": "stream",
          "text": [
            "'Colab Notebooks'   competitive-data-science-predict-future-sales\n"
          ],
          "name": "stdout"
        }
      ]
    },
    {
      "cell_type": "code",
      "metadata": {
        "colab": {
          "base_uri": "https://localhost:8080/"
        },
        "id": "h2pmXNfUxtrW",
        "outputId": "6c23af89-e9f9-4f4e-f8bc-301c8e79aa29"
      },
      "source": [
        "!ls /content/drive/MyDrive/competitive-data-science-predict-future-sales"
      ],
      "execution_count": 6,
      "outputs": [
        {
          "output_type": "stream",
          "text": [
            "item_categories.csv  sales_train.csv\t    shops.csv\n",
            "items.csv\t     sample_submission.csv  test.csv\n"
          ],
          "name": "stdout"
        }
      ]
    },
    {
      "cell_type": "code",
      "metadata": {
        "id": "YGt6U9-_xxlX"
      },
      "source": [
        "items = pd.read_csv(\"/content/drive/MyDrive/competitive-data-science-predict-future-sales/items.csv\")\r\n",
        "shops  = pd.read_csv(\"/content/drive/MyDrive/competitive-data-science-predict-future-sales/shops.csv\")\r\n",
        "cats  = pd.read_csv(\"/content/drive/MyDrive/competitive-data-science-predict-future-sales/item_categories.csv\")\r\n",
        "train  = pd.read_csv(\"/content/drive/MyDrive/competitive-data-science-predict-future-sales/sales_train.csv\")\r\n",
        "# set index to ID to avoid droping it later\r\n",
        "test  = pd.read_csv('/content/drive/MyDrive/competitive-data-science-predict-future-sales/test.csv').set_index('ID')"
      ],
      "execution_count": 8,
      "outputs": []
    },
    {
      "cell_type": "code",
      "metadata": {
        "id": "g0oNzQS6x_SW"
      },
      "source": [
        ""
      ],
      "execution_count": null,
      "outputs": []
    }
  ]
}