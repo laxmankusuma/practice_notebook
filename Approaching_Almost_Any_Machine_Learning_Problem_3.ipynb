{
 "cells": [
  {
   "cell_type": "markdown",
   "id": "arabic-olympus",
   "metadata": {},
   "source": [
    "# by Abhishek Thakur"
   ]
  },
  {
   "cell_type": "markdown",
   "id": "filled-dover",
   "metadata": {},
   "source": [
    "# Evaluation metrics"
   ]
  },
  {
   "cell_type": "markdown",
   "id": "practical-closure",
   "metadata": {},
   "source": [
    "If we talk about classification problems, the most common metrics used are:\n",
    "<br>\n",
    "- Accuracy\n",
    "<br>\n",
    "- Precision (P)\n",
    "<br>\n",
    "- Recall (R)\n",
    "<br>\n",
    "- F1 score (F1)\n",
    "<br>\n",
    "- Area under the ROC (Receiver Operating Characteristic) curve or simply AUC (AUC)\n",
    "<br>\n",
    "- Log loss\n",
    "<br>\n",
    "- Precision at k (P@k)\n",
    "<br>\n",
    "- Average precision at k (AP@k)\n",
    "<br>\n",
    "- Mean average precision at k (MAP@k)"
   ]
  },
  {
   "cell_type": "markdown",
   "id": "acknowledged-penetration",
   "metadata": {},
   "source": [
    "When it comes to regression, the most commonly used evaluation metrics are:\n",
    "<br>\n",
    "- Mean absolute error (MAE)\n",
    "<br>\n",
    "- Mean squared error (MSE)\n",
    "<br>\n",
    "- Root mean squared error (RMSE)\n",
    "<br>\n",
    "- Root mean squared logarithmic error (RMSLE)\n",
    "<br>\n",
    "- Mean percentage error (MPE)\n",
    "<br>\n",
    "- Mean absolute percentage error (MAPE)\n",
    "<br>\n",
    "- R2"
   ]
  },
  {
   "cell_type": "markdown",
   "id": "false-final",
   "metadata": {},
   "source": [
    "The first step is to divide the data described above into two equal sets of 100 images\n",
    "each, i.e. training and validation set. In both the sets, we have 50 positive and 50\n",
    "negative samples.\n",
    "<br>\n",
    "When we have an equal number of positive and negative samples in a binary\n",
    "classification metric, we generally use accuracy, precision, recall and f1."
   ]
  },
  {
   "cell_type": "markdown",
   "id": "urban-california",
   "metadata": {},
   "source": [
    "**Accuracy:** It is one of the most straightforward metrics used in machine learning.\n",
    "It defines how accurate your model is. For the problem described above, if you\n",
    "build a model that classifies 90 images accurately, your accuracy is 90% or 0.90. If\n",
    "only 83 images are classified correctly, the accuracy of your model is 83% or 0.83.\n",
    "Simple."
   ]
  },
  {
   "cell_type": "markdown",
   "id": "major-desire",
   "metadata": {},
   "source": [
    "Python code for calculating accuracy is also quite simple."
   ]
  },
  {
   "cell_type": "code",
   "execution_count": 1,
   "id": "multiple-fruit",
   "metadata": {},
   "outputs": [],
   "source": [
    "def accuracy(y_true, y_pred):\n",
    "    '''\n",
    "    Function to calculate accuracy \n",
    "    :param y_true: list of true values \n",
    "    :param y_pred: list of predicted values \n",
    "    :return: accuracy score\n",
    "    '''\n",
    "    \n",
    "    # initialize a simple counter for correct predictions\n",
    "    correct_counter = 0\n",
    "    \n",
    "    # loop over all elements of y_true\n",
    "    # and y_pred \"together\"\n",
    "    for yt, yp in zip(y_true, y_pred):\n",
    "        if yt == yp:\n",
    "            # if prediction is equal to truth, increase the counter\n",
    "            correct_counter += 1\n",
    "    \n",
    "    # return accuracy\n",
    "    # which is correct predictions over the number of samples\n",
    "    return correct_counter / len(y_true)"
   ]
  },
  {
   "cell_type": "markdown",
   "id": "employed-breed",
   "metadata": {},
   "source": [
    "We can also calculate accuracy using scikit-learn."
   ]
  },
  {
   "cell_type": "code",
   "execution_count": 2,
   "id": "fitted-pennsylvania",
   "metadata": {},
   "outputs": [
    {
     "data": {
      "text/plain": [
       "0.625"
      ]
     },
     "execution_count": 2,
     "metadata": {},
     "output_type": "execute_result"
    }
   ],
   "source": [
    "from sklearn import metrics\n",
    "l1 = [0,1,1,1,0,0,0,1]\n",
    "l2 = [0,1,0,1,0,1,0,0]\n",
    "metrics.accuracy_score(l1,l2)"
   ]
  },
  {
   "cell_type": "code",
   "execution_count": 3,
   "id": "acoustic-empty",
   "metadata": {},
   "outputs": [
    {
     "data": {
      "text/plain": [
       "0.625"
      ]
     },
     "execution_count": 3,
     "metadata": {},
     "output_type": "execute_result"
    }
   ],
   "source": [
    "accuracy(l1, l2) # its is our method"
   ]
  },
  {
   "cell_type": "markdown",
   "id": "middle-newsletter",
   "metadata": {},
   "source": [
    "Now, let’s say we change the dataset a bit such that there are 180 chest x-ray images\n",
    "which do not have pneumothorax and only 20 with pneumothorax. Even in this\n",
    "case, we will create the training and validation sets with the same ratio of positive\n",
    "to negative (pneumothorax to non- pneumothorax) targets. In each set, we have 90\n",
    "non- pneumothorax and 10 pneumothorax images. If you say that all images in the\n",
    "validation set are non-pneumothorax, what would your accuracy be? Let’s see; you\n",
    "classified 90% of the images correctly. So, your accuracy is 90%.\n",
    "<br>\n",
    "But look at it one more time.\n",
    "<br>\n",
    "You didn’t even build a model and got an accuracy of 90%. That seems kind of\n",
    "useless. If we look carefully, we will see that the dataset is skewed, i.e., the number\n",
    "of samples in one class outnumber the number of samples in other class by a lot. In\n",
    "these kinds of cases, it is not advisable to use accuracy as an evaluation metric as it\n",
    "is not representative of the data. So, you might get high accuracy, but your model\n",
    "will probably not perform that well when it comes to real-world samples, and you\n",
    "won’t be able to explain to your managers why.\n",
    "<br>\n",
    "In these cases, it’s better to look at other metrics such as **precision.**\n",
    "<br>\n",
    "Before learning about precision, we need to know a few terms. Here we have\n",
    "assumed that chest x-ray images with pneumothorax are positive class (1) and\n",
    "without pneumothorax are negative class (0).\n",
    "<br>\n",
    "**True positive (TP):** Given an image, if your model predicts the image has\n",
    "pneumothorax, and the actual target for that image has pneumothorax, it is\n",
    "considered a true positive.\n",
    "<br>\n",
    "**True negative (TN):** Given an image, if your model predicts that the image does not\n",
    "have pneumothorax and the actual target says that it is a non-pneumothorax image,\n",
    "it is considered a true negative.\n",
    "<br>\n",
    "In simple words, if your model correctly predicts positive class, it is true positive,\n",
    "and if your model accurately predicts negative class, it is a true negative.\n",
    "<br>\n",
    "**False positive (FP):** Given an image, if your model predicts pneumothorax and the\n",
    "actual target for that image is non- pneumothorax, it a false positive.\n",
    "<br>\n",
    "**False negative (FN):** Given an image, if your model predicts non-pneumothorax\n",
    "and the actual target for that image is pneumothorax, it is a false negative.\n",
    "<br>\n",
    "In simple words, if your model incorrectly (or falsely) predicts positive class, it is\n",
    "a false positive. If your model incorrectly (or falsely) predicts negative class, it is a\n",
    "false negative."
   ]
  },
  {
   "cell_type": "code",
   "execution_count": 4,
   "id": "incomplete-twenty",
   "metadata": {},
   "outputs": [],
   "source": [
    "def true_positive(y_true, y_pred):\n",
    "    \"\"\"\n",
    "    Function to calculate True Positives \n",
    "    :param y_true: list of true values \n",
    "    :param y_pred: list of predicted values \n",
    "    :return: number of true positives \n",
    "    \"\"\"\n",
    "    \n",
    "    # initialize\n",
    "    tp = 0\n",
    "    for yt, yp in zip(y_true, y_pred):\n",
    "        if yt == 1 and yp == 1:\n",
    "            tp += 1\n",
    "    return tp\n",
    "\n",
    "\n",
    "def true_negative(y_true, y_pred):\n",
    "    \"\"\"\n",
    "    Function to calculate True Negatives\n",
    "    :param y_true: list of true values\n",
    "    :param y_pred: list of predicted values\n",
    "    :return: number of true negatives\n",
    "    \"\"\"\n",
    "    # initialize\n",
    "    tn = 0\n",
    "    for yt, yp in zip(y_true, y_pred):\n",
    "        if yt == 0 and yp == 0:\n",
    "            tn += 1\n",
    "    return tn\n",
    "\n",
    "def false_positive(y_true, y_pred):\n",
    "    \"\"\"\n",
    "    Function to calculate False Positives\n",
    "    :param y_true: list of true values\n",
    "    :param y_pred: list of predicted values\n",
    "    :return: number of false positives\n",
    "    \"\"\"\n",
    "    # initialize\n",
    "    fp = 0\n",
    "    for yt, yp in zip(y_true, y_pred):\n",
    "        if yt == 0 and yp == 1:\n",
    "            fp += 1\n",
    "    return fp\n",
    "\n",
    "\n",
    "def false_negative(y_true, y_pred):\n",
    "    \"\"\"\n",
    "    Function to calculate False Negatives\n",
    "    :param y_true: list of true values\n",
    "    :param y_pred: list of predicted values\n",
    "    :return: number of false negatives\n",
    "    \"\"\"\n",
    "    # initialize\n",
    "    fn = 0\n",
    "    for yt, yp in zip(y_true, y_pred):\n",
    "        if yt == 1 and yp == 0:\n",
    "            fn += 1\n",
    "    return fn\n"
   ]
  },
  {
   "cell_type": "markdown",
   "id": "organized-wiring",
   "metadata": {},
   "source": [
    "The way I have implemented these here is quite simple and works only for binary\n",
    "classification. Let’s check these functions."
   ]
  },
  {
   "cell_type": "code",
   "execution_count": 5,
   "id": "revised-footage",
   "metadata": {},
   "outputs": [],
   "source": [
    "l1 = [0,1,1,1,0,0,0,1]\n",
    "l2 = [0,1,0,1,0,1,0,0]"
   ]
  },
  {
   "cell_type": "code",
   "execution_count": 6,
   "id": "comprehensive-contrary",
   "metadata": {},
   "outputs": [
    {
     "data": {
      "text/plain": [
       "2"
      ]
     },
     "execution_count": 6,
     "metadata": {},
     "output_type": "execute_result"
    }
   ],
   "source": [
    "true_positive(l1, l2)"
   ]
  },
  {
   "cell_type": "code",
   "execution_count": 7,
   "id": "buried-membership",
   "metadata": {},
   "outputs": [
    {
     "data": {
      "text/plain": [
       "1"
      ]
     },
     "execution_count": 7,
     "metadata": {},
     "output_type": "execute_result"
    }
   ],
   "source": [
    "false_positive(l1, l2)"
   ]
  },
  {
   "cell_type": "code",
   "execution_count": 8,
   "id": "corrected-beverage",
   "metadata": {},
   "outputs": [
    {
     "data": {
      "text/plain": [
       "2"
      ]
     },
     "execution_count": 8,
     "metadata": {},
     "output_type": "execute_result"
    }
   ],
   "source": [
    "false_negative(l1, l2)"
   ]
  },
  {
   "cell_type": "code",
   "execution_count": 9,
   "id": "separated-printer",
   "metadata": {},
   "outputs": [
    {
     "data": {
      "text/plain": [
       "3"
      ]
     },
     "execution_count": 9,
     "metadata": {},
     "output_type": "execute_result"
    }
   ],
   "source": [
    "true_negative(l1, l2)"
   ]
  },
  {
   "cell_type": "markdown",
   "id": "annoying-solid",
   "metadata": {},
   "source": [
    "If we have to define accuracy using the terms described above, we can write:\n",
    "<br>\n",
    "**Accuracy Score** = (TP + TN) / (TP + TN + FP + FN)"
   ]
  },
  {
   "cell_type": "markdown",
   "id": "automated-police",
   "metadata": {},
   "source": [
    "We can now quickly implement accuracy score using TP, TN, FP and FN in python.\n",
    "Let’s call it accuracy_v2."
   ]
  },
  {
   "cell_type": "code",
   "execution_count": 10,
   "id": "restricted-mission",
   "metadata": {},
   "outputs": [],
   "source": [
    "def accuracy_v2(y_true, y_pred):\n",
    "    \"\"\"\n",
    "    Function to calculate accuracy using tp/tn/fp/fn\n",
    "    :param y_true: list of true values\n",
    "    :param y_pred: list of predicted values\n",
    "    :return: accuracy score\n",
    "    \"\"\"\n",
    "    tp = true_positive(y_true, y_pred)\n",
    "    fp = false_positive(y_true, y_pred)\n",
    "    fn = false_negative(y_true, y_pred)\n",
    "    tn = true_negative(y_true, y_pred)\n",
    "    accuracy_score = (tp + tn) / (tp + tn + fp + fn)\n",
    "    return accuracy_score"
   ]
  },
  {
   "cell_type": "markdown",
   "id": "quantitative-nursing",
   "metadata": {},
   "source": [
    "We can quickly check the correctness of this function by comparing it to our\n",
    "previous implementation and scikit-learn version."
   ]
  },
  {
   "cell_type": "code",
   "execution_count": 11,
   "id": "unavailable-blair",
   "metadata": {},
   "outputs": [],
   "source": [
    "l1 = [0,1,1,1,0,0,0,1]\n",
    "l2 = [0,1,0,1,0,1,0,0]"
   ]
  },
  {
   "cell_type": "code",
   "execution_count": 12,
   "id": "spare-mountain",
   "metadata": {},
   "outputs": [
    {
     "data": {
      "text/plain": [
       "0.625"
      ]
     },
     "execution_count": 12,
     "metadata": {},
     "output_type": "execute_result"
    }
   ],
   "source": [
    "accuracy(l1, l2)"
   ]
  },
  {
   "cell_type": "code",
   "execution_count": 13,
   "id": "several-listing",
   "metadata": {},
   "outputs": [
    {
     "data": {
      "text/plain": [
       "0.625"
      ]
     },
     "execution_count": 13,
     "metadata": {},
     "output_type": "execute_result"
    }
   ],
   "source": [
    "accuracy_v2(l1, l2)"
   ]
  },
  {
   "cell_type": "code",
   "execution_count": 14,
   "id": "historic-metabolism",
   "metadata": {},
   "outputs": [
    {
     "data": {
      "text/plain": [
       "0.625"
      ]
     },
     "execution_count": 14,
     "metadata": {},
     "output_type": "execute_result"
    }
   ],
   "source": [
    "metrics.accuracy_score(l1, l2)"
   ]
  },
  {
   "cell_type": "markdown",
   "id": "third-newcastle",
   "metadata": {},
   "source": [
    "**Precision** = TP / (TP + FP)"
   ]
  },
  {
   "cell_type": "code",
   "execution_count": 15,
   "id": "sought-lunch",
   "metadata": {},
   "outputs": [],
   "source": [
    "def precision(y_true, y_pred):\n",
    "    \"\"\"\n",
    "    Function to calculate precision\n",
    "    :param y_true: list of true values\n",
    "    :param y_pred: list of predicted values\n",
    "    :return: precision score\n",
    "    \"\"\"\n",
    "    tp = true_positive(y_true, y_pred)\n",
    "    fp = false_positive(y_true, y_pred)\n",
    "    precision = tp / (tp + fp)\n",
    "    return precision"
   ]
  },
  {
   "cell_type": "code",
   "execution_count": 16,
   "id": "identical-castle",
   "metadata": {},
   "outputs": [
    {
     "data": {
      "text/plain": [
       "0.6666666666666666"
      ]
     },
     "execution_count": 16,
     "metadata": {},
     "output_type": "execute_result"
    }
   ],
   "source": [
    "l1 = [0,1,1,1,0,0,0,1]\n",
    "l2 = [0,1,0,1,0,1,0,0]\n",
    "precision(l1, l2)"
   ]
  },
  {
   "cell_type": "markdown",
   "id": "numerous-movie",
   "metadata": {},
   "source": [
    "**Recall** = TP / (TP + FN)"
   ]
  },
  {
   "cell_type": "code",
   "execution_count": 17,
   "id": "ambient-spider",
   "metadata": {},
   "outputs": [],
   "source": [
    "def recall(y_true, y_pred): \n",
    "    \"\"\"\n",
    "    Function to calculate recall\n",
    "    :param y_true: list of true values\n",
    "    :param y_pred: list of predicted values\n",
    "    :return: recall score\n",
    "    \"\"\"\n",
    "    tp = true_positive(y_true, y_pred)\n",
    "    fn = false_negative(y_true, y_pred)\n",
    "    recall = tp / (tp + fn)\n",
    "    return recall"
   ]
  },
  {
   "cell_type": "code",
   "execution_count": 18,
   "id": "diverse-hindu",
   "metadata": {},
   "outputs": [
    {
     "data": {
      "text/plain": [
       "0.5"
      ]
     },
     "execution_count": 18,
     "metadata": {},
     "output_type": "execute_result"
    }
   ],
   "source": [
    "l1 = [0,1,1,1,0,0,0,1]\n",
    "l2 = [0,1,0,1,0,1,0,0]\n",
    "recall(l1, l2)"
   ]
  },
  {
   "cell_type": "markdown",
   "id": "worst-gregory",
   "metadata": {},
   "source": [
    "**For a “good” model, our precision and recall values should be high.**"
   ]
  },
  {
   "cell_type": "markdown",
   "id": "abandoned-methodology",
   "metadata": {},
   "source": [
    "**F1 score is a metric that combines both precision and recall.**\n",
    "<br>\n",
    "It is defined as a simple\n",
    "weighted average (harmonic mean) of precision and recall.\n",
    "<br>\n",
    "**F1 = 2PR / (P + R)**\n",
    "<br>\n",
    "i.e **F1 = 2TP / (2TP + FP + FN)**"
   ]
  },
  {
   "cell_type": "code",
   "execution_count": 19,
   "id": "catholic-hands",
   "metadata": {},
   "outputs": [],
   "source": [
    "def f1(y_true, y_pred):\n",
    "    \"\"\"\n",
    "    Function to calculate f1 score\n",
    "    :param y_true: list of true values\n",
    "    :param y_pred: list of predicted values\n",
    "    :return: f1 score\n",
    "    \"\"\"\n",
    "    p = precision(y_true, y_pred)\n",
    "    r = recall(y_true, y_pred)\n",
    "    score = 2 * p * r / (p + r)\n",
    "    return score"
   ]
  },
  {
   "cell_type": "code",
   "execution_count": 20,
   "id": "muslim-allocation",
   "metadata": {},
   "outputs": [],
   "source": [
    "y_true = [0, 0, 0, 1, 0, 0, 0, 0, 0, 0,1, 0, 0, 0, 0, 0, 0, 0, 1, 0]\n",
    "y_pred = [0, 0, 1, 0, 0, 0, 1, 0, 0, 0,1, 0, 0, 0, 0, 0, 0, 0, 1, 0]"
   ]
  },
  {
   "cell_type": "code",
   "execution_count": 21,
   "id": "collectible-copying",
   "metadata": {},
   "outputs": [
    {
     "data": {
      "text/plain": [
       "0.5714285714285715"
      ]
     },
     "execution_count": 21,
     "metadata": {},
     "output_type": "execute_result"
    }
   ],
   "source": [
    "f1(y_true, y_pred)"
   ]
  },
  {
   "cell_type": "code",
   "execution_count": 22,
   "id": "painful-consumption",
   "metadata": {},
   "outputs": [
    {
     "data": {
      "text/plain": [
       "0.5714285714285715"
      ]
     },
     "execution_count": 22,
     "metadata": {},
     "output_type": "execute_result"
    }
   ],
   "source": [
    "from sklearn import metrics\n",
    "metrics.f1_score(y_true, y_pred)"
   ]
  },
  {
   "cell_type": "markdown",
   "id": "lucky-instrument",
   "metadata": {},
   "source": [
    "Instead of looking at precision and recall individually, you can also just look at F1\n",
    "score. Same as for precision, recall and accuracy, F1 score also ranges from 0 to 1,\n",
    "and a perfect prediction model has an F1 of 1. When dealing with datasets that have\n",
    "skewed targets, we should look at F1 (or precision and recall) instead of accuracy."
   ]
  },
  {
   "cell_type": "markdown",
   "id": "contemporary-panel",
   "metadata": {},
   "source": [
    "The first one is **TPR or True Positive Rate or sensitivity.**, which is the same as recall.\n",
    "**TPR = TP / (TP + FN)**"
   ]
  },
  {
   "cell_type": "code",
   "execution_count": 23,
   "id": "swedish-night",
   "metadata": {},
   "outputs": [],
   "source": [
    "def tpr(y_true, y_pred):\n",
    "    \"\"\"\n",
    "    Function to calculate tpr\n",
    "    :param y_true: list of true values\n",
    "    :param y_pred: list of predicted values\n",
    "    :return: tpr/recall\n",
    "    \"\"\"\n",
    "    return recall(y_true, y_pred)"
   ]
  },
  {
   "cell_type": "markdown",
   "id": "otherwise-counter",
   "metadata": {},
   "source": [
    "**FPR or False Positive Rate**, which is defined as:\n",
    "**FPR = FP / (TN + FP)**\n",
    "<br>\n",
    "**1 - FPR** is known as **specificity or True Negative Rate or TNR.**"
   ]
  },
  {
   "cell_type": "markdown",
   "id": "continuous-scout",
   "metadata": {},
   "source": [
    "Area Under ROC Curve or **Area Under Curve** or\n",
    "just simply **AUC**. There are many ways to calculate the area under the ROC curve.\n",
    "For this particular purpose, we will stick to the fantastic implementation by scikitlearn.\n",
    "<br>\n",
    "**Receiver Operating Characteristic (ROC)**"
   ]
  },
  {
   "cell_type": "code",
   "execution_count": 24,
   "id": "unable-petroleum",
   "metadata": {},
   "outputs": [
    {
     "data": {
      "text/plain": [
       "0.8300000000000001"
      ]
     },
     "execution_count": 24,
     "metadata": {},
     "output_type": "execute_result"
    }
   ],
   "source": [
    "from sklearn import metrics\n",
    "\n",
    "y_true = [0, 0, 0, 0, 1, 0, 1,0, 0, 1, 0, 1, 0, 0, 1]\n",
    "y_pred = [0.1, 0.3, 0.2, 0.6, 0.8, 0.05,0.9, 0.5, 0.3, 0.66, 0.3, 0.2,0.85, 0.15, 0.99]\n",
    "\n",
    "metrics.roc_auc_score(y_true, y_pred)"
   ]
  },
  {
   "cell_type": "markdown",
   "id": "structured-tours",
   "metadata": {},
   "source": [
    "AUC values range from 0 to 1."
   ]
  },
  {
   "cell_type": "markdown",
   "id": "mineral-catch",
   "metadata": {},
   "source": [
    "- **AUC = 1** implies you have a perfect model.\n",
    "<br>\n",
    "- **AUC = 0** implies that your model is very bad (or very good!).\n",
    "<br>\n",
    "- **AUC = 0.5** implies that your predictions are random. "
   ]
  },
  {
   "cell_type": "markdown",
   "id": "liberal-republican",
   "metadata": {},
   "source": [
    "**AUC is a widely used metric for skewed binary classification tasks in the industry**"
   ]
  },
  {
   "cell_type": "markdown",
   "id": "determined-reservation",
   "metadata": {},
   "source": [
    "In case\n",
    "of a binary classification problem, we define log loss as:\n",
    "<br>\n",
    "**Log Loss = - 1.0 * ( target * log(prediction) + (1 - target) * log(1 - prediction) )**"
   ]
  },
  {
   "cell_type": "markdown",
   "id": "norwegian-magnet",
   "metadata": {},
   "source": [
    "**we use weighted f1 metric for multi-class problems**"
   ]
  },
  {
   "cell_type": "markdown",
   "id": "spectacular-botswana",
   "metadata": {},
   "source": [
    "In binary or multi-class classification, it is also quite popular to take a look at\n",
    "**confusion matrix**."
   ]
  },
  {
   "cell_type": "markdown",
   "id": "higher-sellers",
   "metadata": {},
   "source": [
    "**Confusion matrix** gives an easy way to calculate different metrics that we have\n",
    "discussed before."
   ]
  },
  {
   "cell_type": "code",
   "execution_count": 25,
   "id": "weekly-marketplace",
   "metadata": {},
   "outputs": [
    {
     "data": {
      "text/plain": [
       "Text(0.5, 48.5, 'Predicted Labels')"
      ]
     },
     "execution_count": 25,
     "metadata": {},
     "output_type": "execute_result"
    },
    {
     "data": {
      "image/png": "[encoded data removed]",
      "text/plain": [
       "<Figure size 720x720 with 1 Axes>"
      ]
     },
     "metadata": {
      "needs_background": "light"
     },
     "output_type": "display_data"
    }
   ],
   "source": [
    "import matplotlib.pyplot as plt\n",
    "import seaborn as sns\n",
    "from sklearn import metrics\n",
    "\n",
    "# some targets\n",
    "y_true = [0, 1, 2, 0, 1, 2, 0, 2, 2]\n",
    "\n",
    "#some predictions\n",
    "y_pred = [0, 2, 1, 0, 2, 1, 0, 0, 2]\n",
    "\n",
    "# get confusion matrix from sklearn\n",
    "cm = metrics.confusion_matrix(y_true, y_pred)\n",
    "\n",
    "# plot using matplotlib and seaborn\n",
    "plt.figure(figsize=(10,10))\n",
    "cmap = sns.cubehelix_palette(50, hue=0.05, rot=0, light=0.9, dark=0,\n",
    "                            as_cmap=True)\n",
    "sns.set(font_scale=2.5)\n",
    "sns.heatmap(cm, annot=True, cmap=cmap, cbar=False)\n",
    "\n",
    "plt.ylabel('Actual Labels', fontsize=20)\n",
    "plt.xlabel('Predicted Labels', fontsize=20)           "
   ]
  },
  {
   "cell_type": "code",
   "execution_count": null,
   "id": "martial-consent",
   "metadata": {},
   "outputs": [],
   "source": []
  },
  {
   "cell_type": "markdown",
   "id": "precious-potter",
   "metadata": {},
   "source": [
    "metrics for **multi-label classification problems** are\n",
    "<br>\n",
    "- Precision at k (P@k)\n",
    "<br>\n",
    "- Average precision at k (AP@k)\n",
    "<br>\n",
    "- Mean average precision at k (MAP@k)\n",
    "<br>\n",
    "- Log loss"
   ]
  },
  {
   "cell_type": "code",
   "execution_count": 26,
   "id": "descending-scope",
   "metadata": {},
   "outputs": [],
   "source": [
    "def pk(y_true, y_pred, k):\n",
    "    \"\"\"\n",
    "    This function calculates precision at k\n",
    "    for a single sample\n",
    "    :param y_true: list of values, actual classes\n",
    "    :param y_pred: list of values, predicted classes\n",
    "    :param k: the value for k\n",
    "    :return: precision at a given value k\n",
    "    \"\"\"\n",
    "    \n",
    "    # if k is 0, return 0. we should never have this\n",
    "    # as k is always >= 1\n",
    "    if k == 0:\n",
    "        return 0\n",
    "    # we are interested only in top-k predictions\n",
    "    y_pred = y_pred[:k]\n",
    "    \n",
    "    # convert predictions to set\n",
    "    pred_set = set(y_pred)\n",
    "    \n",
    "    # convert actual values to set\n",
    "    true_set = set(y_true)\n",
    "    \n",
    "    # find common values\n",
    "    common_values = pred_set.intersection(true_set)\n",
    "    \n",
    "    # return length of common values over k\n",
    "    return len(common_values) / len(y_pred[:k])"
   ]
  },
  {
   "cell_type": "markdown",
   "id": "configured-recognition",
   "metadata": {},
   "source": [
    "Now, we have **average precision at k or AP@k**. AP@k is calculated using P@k.\n",
    "For example, if we have to calculate AP@3, we calculate P@1, P@2 and P@3 and\n",
    "then divide the sum by 3."
   ]
  },
  {
   "cell_type": "code",
   "execution_count": 27,
   "id": "textile-philosophy",
   "metadata": {},
   "outputs": [],
   "source": [
    "def apk(y_true, y_pred, k):\n",
    "    \"\"\"\n",
    "    This function calculates average precision at k\n",
    "    for a single sample\n",
    "    :param y_true: list of values, actual classes\n",
    "    :param y_pred: list of values, predicted classes\\\n",
    "    :return: average precision at a given value k\n",
    "    \"\"\"\n",
    "    \n",
    "    # initialize p@k list of values\n",
    "    pk_values = []\n",
    "    \n",
    "    # loop over all k. from 1 to k+1\n",
    "    for i in range(1, k + 1):\n",
    "        # calculate p@i and append to list\n",
    "        pk_values.append(pk(y_true, y_pred, i))\n",
    "        \n",
    "    # if we have no values in the list, return 0\n",
    "    if len(pk_values) == 0:\n",
    "        return 0\n",
    "    # else, we return the sum of list over length of list\n",
    "    return sum(pk_values) / len(pk_values)\n",
    "        "
   ]
  },
  {
   "cell_type": "code",
   "execution_count": 28,
   "id": "usual-zoning",
   "metadata": {},
   "outputs": [
    {
     "name": "stdout",
     "output_type": "stream",
     "text": [
      "\n",
      "            y_true=[1, 2, 3],\n",
      "            y_pred=[0, 1, 2],\n",
      "            AP@1=0.0\n",
      "            \n",
      "\n",
      "            y_true=[1, 2, 3],\n",
      "            y_pred=[0, 1, 2],\n",
      "            AP@2=0.25\n",
      "            \n",
      "\n",
      "            y_true=[1, 2, 3],\n",
      "            y_pred=[0, 1, 2],\n",
      "            AP@3=0.38888888888888884\n",
      "            \n",
      "\n",
      "            y_true=[0, 2],\n",
      "            y_pred=[1],\n",
      "            AP@1=0.0\n",
      "            \n",
      "\n",
      "            y_true=[0, 2],\n",
      "            y_pred=[1],\n",
      "            AP@2=0.0\n",
      "            \n",
      "\n",
      "            y_true=[0, 2],\n",
      "            y_pred=[1],\n",
      "            AP@3=0.0\n",
      "            \n",
      "\n",
      "            y_true=[1],\n",
      "            y_pred=[0, 2, 3],\n",
      "            AP@1=0.0\n",
      "            \n",
      "\n",
      "            y_true=[1],\n",
      "            y_pred=[0, 2, 3],\n",
      "            AP@2=0.0\n",
      "            \n",
      "\n",
      "            y_true=[1],\n",
      "            y_pred=[0, 2, 3],\n",
      "            AP@3=0.0\n",
      "            \n",
      "\n",
      "            y_true=[2, 3],\n",
      "            y_pred=[2, 3, 4, 0],\n",
      "            AP@1=1.0\n",
      "            \n",
      "\n",
      "            y_true=[2, 3],\n",
      "            y_pred=[2, 3, 4, 0],\n",
      "            AP@2=1.0\n",
      "            \n",
      "\n",
      "            y_true=[2, 3],\n",
      "            y_pred=[2, 3, 4, 0],\n",
      "            AP@3=0.8888888888888888\n",
      "            \n",
      "\n",
      "            y_true=[1, 0],\n",
      "            y_pred=[0, 1, 2],\n",
      "            AP@1=1.0\n",
      "            \n",
      "\n",
      "            y_true=[1, 0],\n",
      "            y_pred=[0, 1, 2],\n",
      "            AP@2=1.0\n",
      "            \n",
      "\n",
      "            y_true=[1, 0],\n",
      "            y_pred=[0, 1, 2],\n",
      "            AP@3=0.8888888888888888\n",
      "            \n",
      "\n",
      "            y_true=[],\n",
      "            y_pred=[0],\n",
      "            AP@1=0.0\n",
      "            \n",
      "\n",
      "            y_true=[],\n",
      "            y_pred=[0],\n",
      "            AP@2=0.0\n",
      "            \n",
      "\n",
      "            y_true=[],\n",
      "            y_pred=[0],\n",
      "            AP@3=0.0\n",
      "            \n"
     ]
    }
   ],
   "source": [
    "y_true = [\n",
    "    [1, 2, 3],\n",
    "    [0, 2],\n",
    "    [1],\n",
    "    [2, 3],\n",
    "    [1, 0],\n",
    "    []\n",
    "]\n",
    "y_pred = [\n",
    "    [0, 1, 2],\n",
    "    [1],\n",
    "    [0, 2, 3],\n",
    "    [2, 3, 4, 0],\n",
    "    [0, 1, 2],\n",
    "    [0]\n",
    "]\n",
    "\n",
    "for i in range(len(y_true)):\n",
    "    for j in range(1, 4):\n",
    "        print(\n",
    "            f'''\n",
    "            y_true={y_true[i]},\n",
    "            y_pred={y_pred[i]},\n",
    "            AP@{j}={apk(y_true[i], y_pred[i], k=j)}\n",
    "            '''\n",
    "            )"
   ]
  },
  {
   "cell_type": "markdown",
   "id": "dense-folder",
   "metadata": {},
   "source": [
    "In machine learning,\n",
    "we are interested in all samples, and that’s why we have **mean average precision\n",
    "at k or MAP@k. MAP@k** is just an average of AP@k"
   ]
  },
  {
   "cell_type": "code",
   "execution_count": 29,
   "id": "fundamental-financing",
   "metadata": {},
   "outputs": [],
   "source": [
    "def mapk(y_true, y_pred, k):\n",
    "    \"\"\"\n",
    "    This function calculates mean avg precision at k\n",
    "    for a single sample\n",
    "    :param y_true: list of values, actual classes\n",
    "    :param y_pred: list of values, predicted classes\n",
    "    :return: mean avg precision at a given value k\n",
    "    \"\"\"\n",
    "    \n",
    "    # initialize empty list for apk values    \n",
    "    apk_values = []\n",
    "    \n",
    "    # loop over all samples\n",
    "    for i in range(len(y_true)):\n",
    "        # store apk values for every sample\n",
    "        apk_values.append(\n",
    "            apk(y_true[i], y_pred[i], k=k)\n",
    "        )\n",
    "    \n",
    "    # return mean of apk values list\n",
    "    return sum(apk_values) / len(apk_values)"
   ]
  },
  {
   "cell_type": "code",
   "execution_count": 30,
   "id": "breathing-fiber",
   "metadata": {},
   "outputs": [
    {
     "data": {
      "text/plain": [
       "0.3333333333333333"
      ]
     },
     "execution_count": 30,
     "metadata": {},
     "output_type": "execute_result"
    }
   ],
   "source": [
    "mapk(y_true, y_pred, k=1)"
   ]
  },
  {
   "cell_type": "code",
   "execution_count": 31,
   "id": "prospective-memorial",
   "metadata": {},
   "outputs": [
    {
     "data": {
      "text/plain": [
       "0.375"
      ]
     },
     "execution_count": 31,
     "metadata": {},
     "output_type": "execute_result"
    }
   ],
   "source": [
    "mapk(y_true, y_pred, k=2)"
   ]
  },
  {
   "cell_type": "code",
   "execution_count": 32,
   "id": "powerful-officer",
   "metadata": {},
   "outputs": [
    {
     "data": {
      "text/plain": [
       "0.3611111111111111"
      ]
     },
     "execution_count": 32,
     "metadata": {},
     "output_type": "execute_result"
    }
   ],
   "source": [
    "mapk(y_true, y_pred, k=3)"
   ]
  },
  {
   "cell_type": "code",
   "execution_count": 33,
   "id": "equipped-telephone",
   "metadata": {},
   "outputs": [
    {
     "data": {
      "text/plain": [
       "0.34722222222222215"
      ]
     },
     "execution_count": 33,
     "metadata": {},
     "output_type": "execute_result"
    }
   ],
   "source": [
    "mapk(y_true, y_pred, k=4)"
   ]
  },
  {
   "cell_type": "markdown",
   "id": "adjustable-vacuum",
   "metadata": {},
   "source": [
    "P@k, AP@k and MAP@k all range from 0 to 1 with 1 being the best."
   ]
  },
  {
   "cell_type": "markdown",
   "id": "precise-saudi",
   "metadata": {},
   "source": [
    "**The most common metric in regression** is error. **Error** is simple and very easy to\n",
    "understand.\n",
    "<br>\n",
    "**Error = True Value – Predicted Value**\n",
    "<br>\n",
    "**Absolute error** is just absolute of the above.\n",
    "Absolute Error = Abs ( True Value – Predicted Value )\n",
    "<br>\n",
    "Then we have **mean absolute error (MAE)**. It’s just mean of all absolute errors."
   ]
  },
  {
   "cell_type": "code",
   "execution_count": 34,
   "id": "disciplinary-harmony",
   "metadata": {},
   "outputs": [],
   "source": [
    "import numpy as np\n",
    "\n",
    "def mean_absolute_error(y_true, y_pred):\n",
    "    \"\"\"\n",
    "    This function calculates mae\n",
    "    :param y_true: list of real numbers, true values\n",
    "    :param y_pred: list of real numbers, predicted values\n",
    "    :return: mean absolute error\n",
    "    \"\"\"\n",
    "    \n",
    "    # initialize error at 0\n",
    "    error = 0\n",
    "    \n",
    "    # loop over all samples in the true and predicted list\n",
    "    for yt, yp in zip(y_true, y_pred):\n",
    "        # calculate absolute error\n",
    "        # and add to error\n",
    "        error += np.abs(yt - yp)\n",
    "    # return mean error\n",
    "    return error / len(y_true)"
   ]
  },
  {
   "cell_type": "markdown",
   "id": "proud-corps",
   "metadata": {},
   "source": [
    "Similarly, we have squared error and **mean squared error (MSE).**\n",
    "<br>\n",
    "**Squared Error = ( True Value – Predicted Value )2**"
   ]
  },
  {
   "cell_type": "code",
   "execution_count": 35,
   "id": "weekly-substitute",
   "metadata": {},
   "outputs": [],
   "source": [
    "def mean_squared_error(y_true, y_pred):\n",
    "    \"\"\"\n",
    "    This function calculates mse\n",
    "    :param y_true: list of real numbers, true values\n",
    "    :param y_pred: list of real numbers, predicted values\n",
    "    :return: mean squared error\n",
    "    \"\"\"\n",
    "    \n",
    "    # initialize error at 0\n",
    "    error = 0\n",
    "    \n",
    "    # loop over all samples in the true and predicted list\n",
    "    for yt, yp in zip(y_true, y_pred):\n",
    "        # calculate squared error\n",
    "        # and add to error\n",
    "        error += (yt - yp) ** 2    \n",
    "    # return mean error\n",
    "    return error / len(y_true)"
   ]
  },
  {
   "cell_type": "markdown",
   "id": "infinite-dimension",
   "metadata": {},
   "source": [
    "MSE and **RMSE (root mean squared error)** are the most popular metrics used in\n",
    "evaluating regression models.\n",
    "<br>\n",
    "**RMSE = SQRT ( MSE )**"
   ]
  },
  {
   "cell_type": "markdown",
   "id": "racial-closure",
   "metadata": {},
   "source": [
    "Another type of error in same class is **squared logarithmic error**. Some people\n",
    "call it **SLE**, and when we take mean of this error across all samples, it is known as\n",
    "**MSLE (mean squared logarithmic error)**"
   ]
  },
  {
   "cell_type": "code",
   "execution_count": 36,
   "id": "judicial-charger",
   "metadata": {},
   "outputs": [],
   "source": [
    "import numpy as np\n",
    "def mean_squared_log_error(y_true, y_pred):\n",
    "    \"\"\"\n",
    "    This function calculates msle\n",
    "    :param y_true: list of real numbers, true values\n",
    "    :param y_pred: list of real numbers, predicted values\n",
    "    :return: mean squared logarithmic error    \n",
    "    \"\"\"\n",
    "    \n",
    "    # initialize error at 0\n",
    "    error = 0\n",
    "    # loop over all samples in true and predicted list\n",
    "    \n",
    "    for yt, yp in zip(y_true, y_pred):\n",
    "        # calculate squared log error\n",
    "        # and add to error\n",
    "        error += (np.log(1 + yt) - np.log(1 + yp)) ** 2\n",
    "    # return mean error\n",
    "    return error / len(y_true)"
   ]
  },
  {
   "cell_type": "markdown",
   "id": "painful-transsexual",
   "metadata": {},
   "source": [
    "**Root mean squared logarithmic error** is just a square root of this. It is also known\n",
    "as **RMSLE.**\n",
    "<br>\n",
    "Then we have the percentage error:\n",
    "<br>\n",
    "**Percentage Error = ( ( True Value – Predicted Value ) / True Value ) * 100**"
   ]
  },
  {
   "cell_type": "code",
   "execution_count": 37,
   "id": "upper-israeli",
   "metadata": {},
   "outputs": [],
   "source": [
    "def mean_percentage_error(y_true, y_pred):\n",
    "    \"\"\"\n",
    "    This function calculates mpe\n",
    "    :param y_true: list of real numbers, true values\\\n",
    "    :param y_pred: list of real numbers, predicted values\n",
    "    :return: mean percentage error\n",
    "    \"\"\"\n",
    "    \n",
    "    # initialize error at 0\n",
    "    error = 0\n",
    "    # loop over all samples in true and predicted list\n",
    "    for yt, yp in zip(y_true, y_pred):\n",
    "        # calculate percentage error\n",
    "        # and add to error\n",
    "        error += (yt - yp) / yt\n",
    "    # return mean percentage error\n",
    "    return error / len(y_true)"
   ]
  },
  {
   "cell_type": "markdown",
   "id": "quiet-underground",
   "metadata": {},
   "source": [
    "And an absolute version of the same (and more common version) is known as **mean\n",
    "absolute percentage error or MAPE**."
   ]
  },
  {
   "cell_type": "code",
   "execution_count": 38,
   "id": "mental-florist",
   "metadata": {},
   "outputs": [],
   "source": [
    "import numpy as np\n",
    "\n",
    "def mean_abs_percentage_error(y_true, y_pred):\n",
    "    \"\"\"\n",
    "    This function calculates MAPE\n",
    "    :param y_true: list of real numbers, true values\n",
    "    :param y_pred: list of real numbers, predicted values\n",
    "    :return: mean absolute percentage error\n",
    "    \"\"\"\n",
    "    \n",
    "    # initialize error at 0\n",
    "    error = 0\n",
    "    # loop over all samples in true and predicted list\n",
    "    for yt, yp in zip(y_true, y_pred):\n",
    "        # calculate percentage error\n",
    "        # and add to error\n",
    "        error += np.abs(yt - yp) / yt\n",
    "    # return mean percentage error\n",
    "    return error / len(y_true)"
   ]
  },
  {
   "cell_type": "markdown",
   "id": "integral-queens",
   "metadata": {},
   "source": [
    "**The best thing about regression is that there are only a few most popular metrics\n",
    "that can be applied to almost every regression problem.**"
   ]
  },
  {
   "cell_type": "markdown",
   "id": "technological-testimony",
   "metadata": {},
   "source": [
    "Let’s talk about another regression metric known as **R2 (R-squared)**, also known\n",
    "as the **coefficient of determination**."
   ]
  },
  {
   "cell_type": "markdown",
   "id": "complicated-ghana",
   "metadata": {},
   "source": [
    "In simple words, R-squared says how good your model fits the data. R-squared\n",
    "closer to 1.0 says that the model fits the data quite well, whereas closer 0 means\n",
    "that model isn’t that good. R-squared can also be negative when the model just\n",
    "makes absurd(total nonsense) predictions."
   ]
  },
  {
   "cell_type": "code",
   "execution_count": 39,
   "id": "hearing-straight",
   "metadata": {},
   "outputs": [],
   "source": [
    "import numpy as np\n",
    "def r2(y_true, y_pred):\n",
    "    \"\"\"\n",
    "    This function calculates r-squared score\n",
    "    :param y_true: list of real numbers, true values\n",
    "    :param y_pred: list of real numbers, predicted values\n",
    "    :return: r2 score\n",
    "    \"\"\"\n",
    "    \n",
    "    # calculate the mean value of true values\n",
    "    mean_true_value = np.mean(y_true)\n",
    "    \n",
    "    # initialize numerator with 0\n",
    "    numerator = 0\n",
    "\n",
    "    # initialize denominator with 0\n",
    "    denominator = 0\n",
    "\n",
    "\n",
    "    # loop over all true and predicted values\n",
    "    for yt, yp in zip(y_true, y_pred):\n",
    "        # update numerator\n",
    "        numerator += (yt - yp) ** 2\n",
    "        # update denominator\n",
    "        denominator += (yt - mean_true_value) ** 2\n",
    "        \n",
    "    # calculate the ratio\n",
    "    ratio = numerator / denominator\n",
    "    # return 1 - ratio\n",
    "    return 1 - ratio"
   ]
  },
  {
   "cell_type": "markdown",
   "id": "opened-popularity",
   "metadata": {},
   "source": [
    "One of them which is quite widely used is **quadratic weighted kappa,** also known\n",
    "as **QWK**. It is also known as **Cohen’s kappa**. QWK measures the “agreement”\n",
    "between two “ratings”. The ratings can be any real numbers in 0 to N. And\n",
    "predictions are also in the same range. An agreement can be defined as how close\n",
    "these ratings are to each other. So, it’s suitable for a classification problem with N\n",
    "different categories/classes. If the agreement is high, the score is closer towards 1.0.\n",
    "In the case of low agreement, the score is close to 0."
   ]
  },
  {
   "cell_type": "code",
   "execution_count": 40,
   "id": "knowing-irrigation",
   "metadata": {},
   "outputs": [
    {
     "data": {
      "text/plain": [
       "0.33333333333333337"
      ]
     },
     "execution_count": 40,
     "metadata": {},
     "output_type": "execute_result"
    }
   ],
   "source": [
    "from sklearn import metrics\n",
    "\n",
    "y_true = [1, 2, 3, 1, 2, 3, 1, 2, 3]\n",
    "y_pred = [2, 1, 3, 1, 2, 3, 3, 1, 2]\n",
    "\n",
    "metrics.cohen_kappa_score(y_true, y_pred, weights=\"quadratic\")"
   ]
  },
  {
   "cell_type": "code",
   "execution_count": 41,
   "id": "played-harmony",
   "metadata": {},
   "outputs": [
    {
     "data": {
      "text/plain": [
       "0.4444444444444444"
      ]
     },
     "execution_count": 41,
     "metadata": {},
     "output_type": "execute_result"
    }
   ],
   "source": [
    "metrics.accuracy_score(y_true, y_pred)"
   ]
  },
  {
   "cell_type": "markdown",
   "id": "wrapped-cream",
   "metadata": {},
   "source": [
    "You can see that even though accuracy is high, QWK is less. A QWK greater than\n",
    "0.85 is considered to be very good!"
   ]
  },
  {
   "cell_type": "markdown",
   "id": "organic-baking",
   "metadata": {},
   "source": [
    "An important metric is **Matthew’s Correlation Coefficient (MCC)**.\n",
    "<br>\n",
    "MCC ranges\n",
    "from -1 to 1. 1 is perfect prediction, -1 is imperfect prediction, and 0 is random\n",
    "prediction. The formula for MCC is quite simple."
   ]
  },
  {
   "cell_type": "code",
   "execution_count": 42,
   "id": "comic-chemical",
   "metadata": {},
   "outputs": [],
   "source": [
    "def mcc(y_true, y_pred):\n",
    "    \"\"\"\n",
    "    This function calculates Matthew's Correlation Coefficient\n",
    "    for binary classification.\n",
    "    :param y_true: list of true values\n",
    "    :param y_pred: list of predicted values\n",
    "    :return: mcc score\n",
    "    \"\"\"\n",
    "    \n",
    "    tp = true_positive(y_true, y_pred)\n",
    "    tn = true_negative(y_true, y_pred)\n",
    "    fp = false_positive(y_true, y_pred)\n",
    "    fn = false_negative(y_true, y_pred)\n",
    "    numerator = (tp * tn) - (fp * fn)\n",
    "    denominator = (\n",
    "        (tp + fp) *\n",
    "        (fn + tn) *\n",
    "        (fp + tn) *\n",
    "        (tp + fn)\n",
    "    )\n",
    "    \n",
    "    denominator = denominator ** 0.5\n",
    "    return numerator/denominator"
   ]
  },
  {
   "cell_type": "markdown",
   "id": "sunset-vampire",
   "metadata": {},
   "source": [
    "These are the metrics that can help you get started and will apply to almost every\n",
    "machine learning problem."
   ]
  },
  {
   "cell_type": "markdown",
   "id": "sensitive-conservation",
   "metadata": {},
   "source": [
    "One thing to keep in mind is that to evaluate un-supervised methods, for example,\n",
    "some kind of clustering, it’s better to create or manually label the test set and keep\n",
    "it separate from everything that is going on in your modelling part. When you are\n",
    "done with clustering, you can evaluate the performance on the test set simply by\n",
    "using any of the supervised learning metrics."
   ]
  },
  {
   "cell_type": "markdown",
   "id": "adjacent-portugal",
   "metadata": {},
   "source": [
    "Once we understand what metric to use for a given problem, we can start looking\n",
    "more deeply into our models for improvements."
   ]
  },
  {
   "cell_type": "code",
   "execution_count": null,
   "id": "disturbed-actress",
   "metadata": {},
   "outputs": [],
   "source": []
  }
 ],
 "metadata": {
  "kernelspec": {
   "display_name": "Python 3",
   "language": "python",
   "name": "python3"
  },
  "language_info": {
   "codemirror_mode": {
    "name": "ipython",
    "version": 3
   },
   "file_extension": ".py",
   "mimetype": "text/x-python",
   "name": "python",
   "nbconvert_exporter": "python",
   "pygments_lexer": "ipython3",
   "version": "3.6.8"
  }
 },
 "nbformat": 4,
 "nbformat_minor": 5
}
