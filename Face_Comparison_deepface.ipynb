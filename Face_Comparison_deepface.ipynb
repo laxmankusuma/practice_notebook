{
 "cells": [
  {
   "cell_type": "markdown",
   "id": "encouraging-abraham",
   "metadata": {},
   "source": [
    "# https://www.youtube.com/watch?v=f9aV2Jfd5fc"
   ]
  },
  {
   "cell_type": "code",
   "execution_count": 1,
   "id": "systematic-theta",
   "metadata": {},
   "outputs": [],
   "source": [
    "# pip install deepface"
   ]
  },
  {
   "cell_type": "code",
   "execution_count": 2,
   "id": "through-animation",
   "metadata": {},
   "outputs": [],
   "source": [
    "from deepface import DeepFace\n",
    "import cv2"
   ]
  },
  {
   "cell_type": "code",
   "execution_count": 3,
   "id": "color-rebel",
   "metadata": {},
   "outputs": [],
   "source": [
    "image1 = cv2.imread('/home/hduser/jupyter/Face_Comparison_deepface/1.jpg')\n",
    "image2 = cv2.imread('/home/hduser/jupyter/Face_Comparison_deepface/2.jpg')"
   ]
  },
  {
   "cell_type": "code",
   "execution_count": 4,
   "id": "latter-adjustment",
   "metadata": {},
   "outputs": [
    {
     "data": {
      "text/plain": [
       "True"
      ]
     },
     "execution_count": 4,
     "metadata": {},
     "output_type": "execute_result"
    }
   ],
   "source": [
    "DeepFace.verify(image1,image2)['verified']"
   ]
  },
  {
   "cell_type": "code",
   "execution_count": null,
   "id": "russian-classics",
   "metadata": {},
   "outputs": [],
   "source": []
  }
 ],
 "metadata": {
  "kernelspec": {
   "display_name": "Python 3",
   "language": "python",
   "name": "python3"
  },
  "language_info": {
   "codemirror_mode": {
    "name": "ipython",
    "version": 3
   },
   "file_extension": ".py",
   "mimetype": "text/x-python",
   "name": "python",
   "nbconvert_exporter": "python",
   "pygments_lexer": "ipython3",
   "version": "3.6.8"
  }
 },
 "nbformat": 4,
 "nbformat_minor": 5
}
