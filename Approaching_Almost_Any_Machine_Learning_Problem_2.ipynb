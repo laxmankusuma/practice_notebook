{
 "cells": [
  {
   "cell_type": "markdown",
   "id": "thermal-plumbing",
   "metadata": {},
   "source": [
    "# by Abhishek Thakur"
   ]
  },
  {
   "cell_type": "markdown",
   "id": "loose-reservation",
   "metadata": {},
   "source": [
    "# Cross-validation"
   ]
  },
  {
   "cell_type": "markdown",
   "id": "premier-lender",
   "metadata": {},
   "source": [
    "how to choose the best cross-validation depending on your datasets.?"
   ]
  },
  {
   "cell_type": "markdown",
   "id": "aggressive-timing",
   "metadata": {},
   "source": [
    "cross-validation is a step in the process of building a machine learning model which helps us ensure that our models fit the data accurately and also ensures that we do not overfit"
   ]
  },
  {
   "cell_type": "code",
   "execution_count": 1,
   "id": "liquid-purchase",
   "metadata": {},
   "outputs": [],
   "source": [
    "import pandas as pd\n",
    "df = pd.read_csv(\"winequality-red.csv\")"
   ]
  },
  {
   "cell_type": "code",
   "execution_count": 2,
   "id": "loaded-testing",
   "metadata": {},
   "outputs": [
    {
     "data": {
      "text/html": [
       "<div>\n",
       "<style scoped>\n",
       "    .dataframe tbody tr th:only-of-type {\n",
       "        vertical-align: middle;\n",
       "    }\n",
       "\n",
       "    .dataframe tbody tr th {\n",
       "        vertical-align: top;\n",
       "    }\n",
       "\n",
       "    .dataframe thead th {\n",
       "        text-align: right;\n",
       "    }\n",
       "</style>\n",
       "<table border=\"1\" class=\"dataframe\">\n",
       "  <thead>\n",
       "    <tr style=\"text-align: right;\">\n",
       "      <th></th>\n",
       "      <th>fixed acidity</th>\n",
       "      <th>volatile acidity</th>\n",
       "      <th>citric acid</th>\n",
       "      <th>residual sugar</th>\n",
       "      <th>chlorides</th>\n",
       "      <th>free sulfur dioxide</th>\n",
       "      <th>total sulfur dioxide</th>\n",
       "      <th>density</th>\n",
       "      <th>pH</th>\n",
       "      <th>sulphates</th>\n",
       "      <th>alcohol</th>\n",
       "      <th>quality</th>\n",
       "    </tr>\n",
       "  </thead>\n",
       "  <tbody>\n",
       "    <tr>\n",
       "      <th>0</th>\n",
       "      <td>7.4</td>\n",
       "      <td>0.700</td>\n",
       "      <td>0.00</td>\n",
       "      <td>1.9</td>\n",
       "      <td>0.076</td>\n",
       "      <td>11.0</td>\n",
       "      <td>34.0</td>\n",
       "      <td>0.99780</td>\n",
       "      <td>3.51</td>\n",
       "      <td>0.56</td>\n",
       "      <td>9.4</td>\n",
       "      <td>5</td>\n",
       "    </tr>\n",
       "    <tr>\n",
       "      <th>1</th>\n",
       "      <td>7.8</td>\n",
       "      <td>0.880</td>\n",
       "      <td>0.00</td>\n",
       "      <td>2.6</td>\n",
       "      <td>0.098</td>\n",
       "      <td>25.0</td>\n",
       "      <td>67.0</td>\n",
       "      <td>0.99680</td>\n",
       "      <td>3.20</td>\n",
       "      <td>0.68</td>\n",
       "      <td>9.8</td>\n",
       "      <td>5</td>\n",
       "    </tr>\n",
       "    <tr>\n",
       "      <th>2</th>\n",
       "      <td>7.8</td>\n",
       "      <td>0.760</td>\n",
       "      <td>0.04</td>\n",
       "      <td>2.3</td>\n",
       "      <td>0.092</td>\n",
       "      <td>15.0</td>\n",
       "      <td>54.0</td>\n",
       "      <td>0.99700</td>\n",
       "      <td>3.26</td>\n",
       "      <td>0.65</td>\n",
       "      <td>9.8</td>\n",
       "      <td>5</td>\n",
       "    </tr>\n",
       "    <tr>\n",
       "      <th>3</th>\n",
       "      <td>11.2</td>\n",
       "      <td>0.280</td>\n",
       "      <td>0.56</td>\n",
       "      <td>1.9</td>\n",
       "      <td>0.075</td>\n",
       "      <td>17.0</td>\n",
       "      <td>60.0</td>\n",
       "      <td>0.99800</td>\n",
       "      <td>3.16</td>\n",
       "      <td>0.58</td>\n",
       "      <td>9.8</td>\n",
       "      <td>6</td>\n",
       "    </tr>\n",
       "    <tr>\n",
       "      <th>4</th>\n",
       "      <td>7.4</td>\n",
       "      <td>0.700</td>\n",
       "      <td>0.00</td>\n",
       "      <td>1.9</td>\n",
       "      <td>0.076</td>\n",
       "      <td>11.0</td>\n",
       "      <td>34.0</td>\n",
       "      <td>0.99780</td>\n",
       "      <td>3.51</td>\n",
       "      <td>0.56</td>\n",
       "      <td>9.4</td>\n",
       "      <td>5</td>\n",
       "    </tr>\n",
       "    <tr>\n",
       "      <th>...</th>\n",
       "      <td>...</td>\n",
       "      <td>...</td>\n",
       "      <td>...</td>\n",
       "      <td>...</td>\n",
       "      <td>...</td>\n",
       "      <td>...</td>\n",
       "      <td>...</td>\n",
       "      <td>...</td>\n",
       "      <td>...</td>\n",
       "      <td>...</td>\n",
       "      <td>...</td>\n",
       "      <td>...</td>\n",
       "    </tr>\n",
       "    <tr>\n",
       "      <th>1594</th>\n",
       "      <td>6.2</td>\n",
       "      <td>0.600</td>\n",
       "      <td>0.08</td>\n",
       "      <td>2.0</td>\n",
       "      <td>0.090</td>\n",
       "      <td>32.0</td>\n",
       "      <td>44.0</td>\n",
       "      <td>0.99490</td>\n",
       "      <td>3.45</td>\n",
       "      <td>0.58</td>\n",
       "      <td>10.5</td>\n",
       "      <td>5</td>\n",
       "    </tr>\n",
       "    <tr>\n",
       "      <th>1595</th>\n",
       "      <td>5.9</td>\n",
       "      <td>0.550</td>\n",
       "      <td>0.10</td>\n",
       "      <td>2.2</td>\n",
       "      <td>0.062</td>\n",
       "      <td>39.0</td>\n",
       "      <td>51.0</td>\n",
       "      <td>0.99512</td>\n",
       "      <td>3.52</td>\n",
       "      <td>0.76</td>\n",
       "      <td>11.2</td>\n",
       "      <td>6</td>\n",
       "    </tr>\n",
       "    <tr>\n",
       "      <th>1596</th>\n",
       "      <td>6.3</td>\n",
       "      <td>0.510</td>\n",
       "      <td>0.13</td>\n",
       "      <td>2.3</td>\n",
       "      <td>0.076</td>\n",
       "      <td>29.0</td>\n",
       "      <td>40.0</td>\n",
       "      <td>0.99574</td>\n",
       "      <td>3.42</td>\n",
       "      <td>0.75</td>\n",
       "      <td>11.0</td>\n",
       "      <td>6</td>\n",
       "    </tr>\n",
       "    <tr>\n",
       "      <th>1597</th>\n",
       "      <td>5.9</td>\n",
       "      <td>0.645</td>\n",
       "      <td>0.12</td>\n",
       "      <td>2.0</td>\n",
       "      <td>0.075</td>\n",
       "      <td>32.0</td>\n",
       "      <td>44.0</td>\n",
       "      <td>0.99547</td>\n",
       "      <td>3.57</td>\n",
       "      <td>0.71</td>\n",
       "      <td>10.2</td>\n",
       "      <td>5</td>\n",
       "    </tr>\n",
       "    <tr>\n",
       "      <th>1598</th>\n",
       "      <td>6.0</td>\n",
       "      <td>0.310</td>\n",
       "      <td>0.47</td>\n",
       "      <td>3.6</td>\n",
       "      <td>0.067</td>\n",
       "      <td>18.0</td>\n",
       "      <td>42.0</td>\n",
       "      <td>0.99549</td>\n",
       "      <td>3.39</td>\n",
       "      <td>0.66</td>\n",
       "      <td>11.0</td>\n",
       "      <td>6</td>\n",
       "    </tr>\n",
       "  </tbody>\n",
       "</table>\n",
       "<p>1599 rows × 12 columns</p>\n",
       "</div>"
      ],
      "text/plain": [
       "      fixed acidity  volatile acidity  citric acid  residual sugar  chlorides  \\\n",
       "0               7.4             0.700         0.00             1.9      0.076   \n",
       "1               7.8             0.880         0.00             2.6      0.098   \n",
       "2               7.8             0.760         0.04             2.3      0.092   \n",
       "3              11.2             0.280         0.56             1.9      0.075   \n",
       "4               7.4             0.700         0.00             1.9      0.076   \n",
       "...             ...               ...          ...             ...        ...   \n",
       "1594            6.2             0.600         0.08             2.0      0.090   \n",
       "1595            5.9             0.550         0.10             2.2      0.062   \n",
       "1596            6.3             0.510         0.13             2.3      0.076   \n",
       "1597            5.9             0.645         0.12             2.0      0.075   \n",
       "1598            6.0             0.310         0.47             3.6      0.067   \n",
       "\n",
       "      free sulfur dioxide  total sulfur dioxide  density    pH  sulphates  \\\n",
       "0                    11.0                  34.0  0.99780  3.51       0.56   \n",
       "1                    25.0                  67.0  0.99680  3.20       0.68   \n",
       "2                    15.0                  54.0  0.99700  3.26       0.65   \n",
       "3                    17.0                  60.0  0.99800  3.16       0.58   \n",
       "4                    11.0                  34.0  0.99780  3.51       0.56   \n",
       "...                   ...                   ...      ...   ...        ...   \n",
       "1594                 32.0                  44.0  0.99490  3.45       0.58   \n",
       "1595                 39.0                  51.0  0.99512  3.52       0.76   \n",
       "1596                 29.0                  40.0  0.99574  3.42       0.75   \n",
       "1597                 32.0                  44.0  0.99547  3.57       0.71   \n",
       "1598                 18.0                  42.0  0.99549  3.39       0.66   \n",
       "\n",
       "      alcohol  quality  \n",
       "0         9.4        5  \n",
       "1         9.8        5  \n",
       "2         9.8        5  \n",
       "3         9.8        6  \n",
       "4         9.4        5  \n",
       "...       ...      ...  \n",
       "1594     10.5        5  \n",
       "1595     11.2        6  \n",
       "1596     11.0        6  \n",
       "1597     10.2        5  \n",
       "1598     11.0        6  \n",
       "\n",
       "[1599 rows x 12 columns]"
      ]
     },
     "execution_count": 2,
     "metadata": {},
     "output_type": "execute_result"
    }
   ],
   "source": [
    "df"
   ]
  },
  {
   "cell_type": "markdown",
   "id": "convenient-promise",
   "metadata": {},
   "source": [
    "We can treat this problem either as a classification problem or as a regression problem since wine quality is nothing but a real number between 0 and 10.\n",
    "<br>\n",
    "For simplicity, let’s choose classification."
   ]
  },
  {
   "cell_type": "markdown",
   "id": "gross-context",
   "metadata": {},
   "source": [
    "This dataset, however, consists of only six types of quality values. We will thus map all quality values from 0 to 5."
   ]
  },
  {
   "cell_type": "code",
   "execution_count": 3,
   "id": "textile-montreal",
   "metadata": {},
   "outputs": [],
   "source": [
    "# a mapping dictionary that maps the quality values from 0 to 5\n",
    "quality_mapping = {\n",
    "    3:0,\n",
    "    4:1,\n",
    "    5:2,\n",
    "    6:3,\n",
    "    7:4,\n",
    "    8:5\n",
    "}"
   ]
  },
  {
   "cell_type": "markdown",
   "id": "indian-north",
   "metadata": {},
   "source": [
    "you can use the map function of pandas with any dictionary to convert the values in a given column to values in the dictionary"
   ]
  },
  {
   "cell_type": "code",
   "execution_count": 4,
   "id": "stretch-frost",
   "metadata": {},
   "outputs": [],
   "source": [
    "df.loc[:,'quality'] = df['quality'].map(quality_mapping)"
   ]
  },
  {
   "cell_type": "code",
   "execution_count": 5,
   "id": "every-collar",
   "metadata": {},
   "outputs": [
    {
     "data": {
      "text/html": [
       "<div>\n",
       "<style scoped>\n",
       "    .dataframe tbody tr th:only-of-type {\n",
       "        vertical-align: middle;\n",
       "    }\n",
       "\n",
       "    .dataframe tbody tr th {\n",
       "        vertical-align: top;\n",
       "    }\n",
       "\n",
       "    .dataframe thead th {\n",
       "        text-align: right;\n",
       "    }\n",
       "</style>\n",
       "<table border=\"1\" class=\"dataframe\">\n",
       "  <thead>\n",
       "    <tr style=\"text-align: right;\">\n",
       "      <th></th>\n",
       "      <th>fixed acidity</th>\n",
       "      <th>volatile acidity</th>\n",
       "      <th>citric acid</th>\n",
       "      <th>residual sugar</th>\n",
       "      <th>chlorides</th>\n",
       "      <th>free sulfur dioxide</th>\n",
       "      <th>total sulfur dioxide</th>\n",
       "      <th>density</th>\n",
       "      <th>pH</th>\n",
       "      <th>sulphates</th>\n",
       "      <th>alcohol</th>\n",
       "      <th>quality</th>\n",
       "    </tr>\n",
       "  </thead>\n",
       "  <tbody>\n",
       "    <tr>\n",
       "      <th>0</th>\n",
       "      <td>7.4</td>\n",
       "      <td>0.700</td>\n",
       "      <td>0.00</td>\n",
       "      <td>1.9</td>\n",
       "      <td>0.076</td>\n",
       "      <td>11.0</td>\n",
       "      <td>34.0</td>\n",
       "      <td>0.99780</td>\n",
       "      <td>3.51</td>\n",
       "      <td>0.56</td>\n",
       "      <td>9.4</td>\n",
       "      <td>2</td>\n",
       "    </tr>\n",
       "    <tr>\n",
       "      <th>1</th>\n",
       "      <td>7.8</td>\n",
       "      <td>0.880</td>\n",
       "      <td>0.00</td>\n",
       "      <td>2.6</td>\n",
       "      <td>0.098</td>\n",
       "      <td>25.0</td>\n",
       "      <td>67.0</td>\n",
       "      <td>0.99680</td>\n",
       "      <td>3.20</td>\n",
       "      <td>0.68</td>\n",
       "      <td>9.8</td>\n",
       "      <td>2</td>\n",
       "    </tr>\n",
       "    <tr>\n",
       "      <th>2</th>\n",
       "      <td>7.8</td>\n",
       "      <td>0.760</td>\n",
       "      <td>0.04</td>\n",
       "      <td>2.3</td>\n",
       "      <td>0.092</td>\n",
       "      <td>15.0</td>\n",
       "      <td>54.0</td>\n",
       "      <td>0.99700</td>\n",
       "      <td>3.26</td>\n",
       "      <td>0.65</td>\n",
       "      <td>9.8</td>\n",
       "      <td>2</td>\n",
       "    </tr>\n",
       "    <tr>\n",
       "      <th>3</th>\n",
       "      <td>11.2</td>\n",
       "      <td>0.280</td>\n",
       "      <td>0.56</td>\n",
       "      <td>1.9</td>\n",
       "      <td>0.075</td>\n",
       "      <td>17.0</td>\n",
       "      <td>60.0</td>\n",
       "      <td>0.99800</td>\n",
       "      <td>3.16</td>\n",
       "      <td>0.58</td>\n",
       "      <td>9.8</td>\n",
       "      <td>3</td>\n",
       "    </tr>\n",
       "    <tr>\n",
       "      <th>4</th>\n",
       "      <td>7.4</td>\n",
       "      <td>0.700</td>\n",
       "      <td>0.00</td>\n",
       "      <td>1.9</td>\n",
       "      <td>0.076</td>\n",
       "      <td>11.0</td>\n",
       "      <td>34.0</td>\n",
       "      <td>0.99780</td>\n",
       "      <td>3.51</td>\n",
       "      <td>0.56</td>\n",
       "      <td>9.4</td>\n",
       "      <td>2</td>\n",
       "    </tr>\n",
       "    <tr>\n",
       "      <th>...</th>\n",
       "      <td>...</td>\n",
       "      <td>...</td>\n",
       "      <td>...</td>\n",
       "      <td>...</td>\n",
       "      <td>...</td>\n",
       "      <td>...</td>\n",
       "      <td>...</td>\n",
       "      <td>...</td>\n",
       "      <td>...</td>\n",
       "      <td>...</td>\n",
       "      <td>...</td>\n",
       "      <td>...</td>\n",
       "    </tr>\n",
       "    <tr>\n",
       "      <th>1594</th>\n",
       "      <td>6.2</td>\n",
       "      <td>0.600</td>\n",
       "      <td>0.08</td>\n",
       "      <td>2.0</td>\n",
       "      <td>0.090</td>\n",
       "      <td>32.0</td>\n",
       "      <td>44.0</td>\n",
       "      <td>0.99490</td>\n",
       "      <td>3.45</td>\n",
       "      <td>0.58</td>\n",
       "      <td>10.5</td>\n",
       "      <td>2</td>\n",
       "    </tr>\n",
       "    <tr>\n",
       "      <th>1595</th>\n",
       "      <td>5.9</td>\n",
       "      <td>0.550</td>\n",
       "      <td>0.10</td>\n",
       "      <td>2.2</td>\n",
       "      <td>0.062</td>\n",
       "      <td>39.0</td>\n",
       "      <td>51.0</td>\n",
       "      <td>0.99512</td>\n",
       "      <td>3.52</td>\n",
       "      <td>0.76</td>\n",
       "      <td>11.2</td>\n",
       "      <td>3</td>\n",
       "    </tr>\n",
       "    <tr>\n",
       "      <th>1596</th>\n",
       "      <td>6.3</td>\n",
       "      <td>0.510</td>\n",
       "      <td>0.13</td>\n",
       "      <td>2.3</td>\n",
       "      <td>0.076</td>\n",
       "      <td>29.0</td>\n",
       "      <td>40.0</td>\n",
       "      <td>0.99574</td>\n",
       "      <td>3.42</td>\n",
       "      <td>0.75</td>\n",
       "      <td>11.0</td>\n",
       "      <td>3</td>\n",
       "    </tr>\n",
       "    <tr>\n",
       "      <th>1597</th>\n",
       "      <td>5.9</td>\n",
       "      <td>0.645</td>\n",
       "      <td>0.12</td>\n",
       "      <td>2.0</td>\n",
       "      <td>0.075</td>\n",
       "      <td>32.0</td>\n",
       "      <td>44.0</td>\n",
       "      <td>0.99547</td>\n",
       "      <td>3.57</td>\n",
       "      <td>0.71</td>\n",
       "      <td>10.2</td>\n",
       "      <td>2</td>\n",
       "    </tr>\n",
       "    <tr>\n",
       "      <th>1598</th>\n",
       "      <td>6.0</td>\n",
       "      <td>0.310</td>\n",
       "      <td>0.47</td>\n",
       "      <td>3.6</td>\n",
       "      <td>0.067</td>\n",
       "      <td>18.0</td>\n",
       "      <td>42.0</td>\n",
       "      <td>0.99549</td>\n",
       "      <td>3.39</td>\n",
       "      <td>0.66</td>\n",
       "      <td>11.0</td>\n",
       "      <td>3</td>\n",
       "    </tr>\n",
       "  </tbody>\n",
       "</table>\n",
       "<p>1599 rows × 12 columns</p>\n",
       "</div>"
      ],
      "text/plain": [
       "      fixed acidity  volatile acidity  citric acid  residual sugar  chlorides  \\\n",
       "0               7.4             0.700         0.00             1.9      0.076   \n",
       "1               7.8             0.880         0.00             2.6      0.098   \n",
       "2               7.8             0.760         0.04             2.3      0.092   \n",
       "3              11.2             0.280         0.56             1.9      0.075   \n",
       "4               7.4             0.700         0.00             1.9      0.076   \n",
       "...             ...               ...          ...             ...        ...   \n",
       "1594            6.2             0.600         0.08             2.0      0.090   \n",
       "1595            5.9             0.550         0.10             2.2      0.062   \n",
       "1596            6.3             0.510         0.13             2.3      0.076   \n",
       "1597            5.9             0.645         0.12             2.0      0.075   \n",
       "1598            6.0             0.310         0.47             3.6      0.067   \n",
       "\n",
       "      free sulfur dioxide  total sulfur dioxide  density    pH  sulphates  \\\n",
       "0                    11.0                  34.0  0.99780  3.51       0.56   \n",
       "1                    25.0                  67.0  0.99680  3.20       0.68   \n",
       "2                    15.0                  54.0  0.99700  3.26       0.65   \n",
       "3                    17.0                  60.0  0.99800  3.16       0.58   \n",
       "4                    11.0                  34.0  0.99780  3.51       0.56   \n",
       "...                   ...                   ...      ...   ...        ...   \n",
       "1594                 32.0                  44.0  0.99490  3.45       0.58   \n",
       "1595                 39.0                  51.0  0.99512  3.52       0.76   \n",
       "1596                 29.0                  40.0  0.99574  3.42       0.75   \n",
       "1597                 32.0                  44.0  0.99547  3.57       0.71   \n",
       "1598                 18.0                  42.0  0.99549  3.39       0.66   \n",
       "\n",
       "      alcohol  quality  \n",
       "0         9.4        2  \n",
       "1         9.8        2  \n",
       "2         9.8        2  \n",
       "3         9.8        3  \n",
       "4         9.4        2  \n",
       "...       ...      ...  \n",
       "1594     10.5        2  \n",
       "1595     11.2        3  \n",
       "1596     11.0        3  \n",
       "1597     10.2        2  \n",
       "1598     11.0        3  \n",
       "\n",
       "[1599 rows x 12 columns]"
      ]
     },
     "execution_count": 5,
     "metadata": {},
     "output_type": "execute_result"
    }
   ],
   "source": [
    "df"
   ]
  },
  {
   "cell_type": "markdown",
   "id": "moved-particular",
   "metadata": {},
   "source": [
    "When we look at this data and consider it a classification problem, a lot of algorithms come to our mind that we can apply to it, probably, we can use neural networks. But it would be a bit of a stretch if we dive into neural networks from the beginning. So, let’s start with something simple that we can visualize too: **decision trees.**"
   ]
  },
  {
   "cell_type": "markdown",
   "id": "comfortable-charge",
   "metadata": {},
   "source": [
    "We keep 1000 samples for training and 599 as a separate set."
   ]
  },
  {
   "cell_type": "code",
   "execution_count": 6,
   "id": "continued-vessel",
   "metadata": {},
   "outputs": [],
   "source": [
    "# use sample with frac=1 to shuffle the dataframe\n",
    "# we reset the indices since they change after\n",
    "# shuffling the dataframe\n",
    "df = df.sample(frac=1).reset_index(drop=True)\n",
    "\n",
    "# top 1000 rows are selected \n",
    "#for training\n",
    "df_train = df.head(1000)\n",
    "\n",
    "# bottom 599 values are selected \n",
    "# for testing/validation\n",
    "df_test = df.tail(599)"
   ]
  },
  {
   "cell_type": "code",
   "execution_count": 7,
   "id": "rocky-latex",
   "metadata": {},
   "outputs": [],
   "source": [
    "# import from scikit-learn\n",
    "from sklearn import tree\n",
    "from sklearn import metrics\n",
    "\n",
    "# initialize decision tree classifier class\n",
    "# with max depth of 3\n",
    "clf = tree.DecisionTreeClassifier(max_depth=3)\n",
    "\n",
    "# choose the columns you want to train on\n",
    "# these are the features for the model\n",
    "cols = ['fixed acidity',\n",
    "       'volatile acidity',\n",
    "       'citric acid',\n",
    "       'residual sugar',\n",
    "        'chlorides',\n",
    "        'free sulfur dioxide',\n",
    "        'total sulfur dioxide',\n",
    "        'density',\n",
    "        'pH',\n",
    "        'sulphates',\n",
    "        'alcohol'\n",
    "       ]"
   ]
  },
  {
   "cell_type": "code",
   "execution_count": 8,
   "id": "guided-performance",
   "metadata": {},
   "outputs": [
    {
     "data": {
      "text/plain": [
       "DecisionTreeClassifier(max_depth=3)"
      ]
     },
     "execution_count": 8,
     "metadata": {},
     "output_type": "execute_result"
    }
   ],
   "source": [
    "# train the model on the provided model\n",
    "# and mapped quality from before\n",
    "clf.fit(df_train[cols], df_train['quality'])"
   ]
  },
  {
   "cell_type": "markdown",
   "id": "substantial-bristol",
   "metadata": {},
   "source": [
    "Now, we test the accuracy of this model on the training set and the test set:"
   ]
  },
  {
   "cell_type": "code",
   "execution_count": 9,
   "id": "opposite-swimming",
   "metadata": {},
   "outputs": [],
   "source": [
    "# generate predictions on the training set\n",
    "train_predictions = clf.predict(df_train[cols])\n",
    "\n",
    "# generate predictions on the test set\n",
    "test_predictions = clf.predict(df_test[cols])\n",
    "\n",
    "# calculate the accuracy of predictions on\n",
    "# training data set\n",
    "tarin_accuracy = metrics.accuracy_score(\n",
    "    df_train['quality'],train_predictions\n",
    ")\n",
    "\n",
    "# calculate the accuracy of predictions on\n",
    "# test data set\n",
    "test_accuracy = metrics.accuracy_score(\n",
    "    df_test['quality'],test_predictions\n",
    ")"
   ]
  },
  {
   "cell_type": "code",
   "execution_count": 10,
   "id": "identified-chosen",
   "metadata": {},
   "outputs": [
    {
     "data": {
      "text/plain": [
       "0.6"
      ]
     },
     "execution_count": 10,
     "metadata": {},
     "output_type": "execute_result"
    }
   ],
   "source": [
    "tarin_accuracy"
   ]
  },
  {
   "cell_type": "code",
   "execution_count": 11,
   "id": "permanent-title",
   "metadata": {},
   "outputs": [
    {
     "data": {
      "text/plain": [
       "0.5525876460767947"
      ]
     },
     "execution_count": 11,
     "metadata": {},
     "output_type": "execute_result"
    }
   ],
   "source": [
    "test_accuracy"
   ]
  },
  {
   "cell_type": "markdown",
   "id": "completed-glass",
   "metadata": {},
   "source": [
    "Here, we have used accuracy, mainly because it is the most straightforward metric. It might not be the best metric for this problem. What about we calculate these accuracies for different values of max_depth and make a plot?"
   ]
  },
  {
   "cell_type": "code",
   "execution_count": 12,
   "id": "freelance-focus",
   "metadata": {},
   "outputs": [],
   "source": [
    "# import scikit-learn tree and metrics\n",
    "from sklearn import tree\n",
    "from sklearn import metrics\n",
    "\n",
    "# import matplotlib and seaborn\n",
    "# for plotting\n",
    "import matplotlib\n",
    "import matplotlib.pyplot as plt\n",
    "import seaborn as sns\n",
    "\n",
    "# this is our global size of label text\n",
    "# on the plots\n",
    "matplotlib.rc('xtick', labelsize=20)\n",
    "matplotlib.rc('ytick', labelsize=20)\n",
    "\n",
    "# This line ensures that the plot is displayed\n",
    "# inside the notebook\n",
    "%matplotlib inline\n",
    "\n",
    "# initialize lists to store accuracies\n",
    "# for training and test data\n",
    "# we start with 50% accuracy\n",
    "train_accuracies = [0.5]\n",
    "test_accuracies = [0.5]\n",
    "\n",
    "# iterate over a few depth values\n",
    "for depth in range(1,25):\n",
    "    # init the model\n",
    "    clf = tree.DecisionTreeClassifier(max_depth=depth)\n",
    "    \n",
    "    # columns/features for training\n",
    "    # note that, this can be done outside\n",
    "    # the loop\n",
    "    cols = [\n",
    "        'fixed acidity',\n",
    "        'volatile acidity',\n",
    "        'citric acid',\n",
    "        'residual sugar',\n",
    "        'chlorides',\n",
    "        'free sulfur dioxide',\n",
    "        'total sulfur dioxide',\n",
    "        'density',\n",
    "        'pH',\n",
    "        'sulphates',\n",
    "        'alcohol'\n",
    "    ]\n",
    "    \n",
    "    # fit the model on given features\n",
    "    clf.fit(df_train[cols], df_train['quality'])\n",
    "    \n",
    "    # create training & test predictions\n",
    "    train_predictions = clf.predict(df_train[cols])\n",
    "    test_predictions = clf.predict(df_test[cols])\n",
    "    \n",
    "    # calculate training & test accuracies\n",
    "    train_accuracy = metrics.accuracy_score(\n",
    "        df_train['quality'], train_predictions\n",
    "    )\n",
    "    \n",
    "    test_accuracy = metrics.accuracy_score(\n",
    "        df_test['quality'], test_predictions\n",
    "    )\n",
    "    \n",
    "    # append accuracies\n",
    "    train_accuracies.append(train_accuracy)\n",
    "    test_accuracies.append(test_accuracy)        "
   ]
  },
  {
   "cell_type": "code",
   "execution_count": 13,
   "id": "veterinary-jurisdiction",
   "metadata": {},
   "outputs": [
    {
     "data": {
      "image/png": "[encoded data removed]",
      "text/plain": [
       "<Figure size 720x360 with 1 Axes>"
      ]
     },
     "metadata": {
      "needs_background": "light"
     },
     "output_type": "display_data"
    }
   ],
   "source": [
    "# create two plots using matplotlib\n",
    "# and seaborn\n",
    "plt.figure(figsize=(10,5))\n",
    "sns.set_style('whitegrid')\n",
    "plt.plot(train_accuracies, label='train accuracy')\n",
    "plt.plot(test_accuracies, label='test_accuracy')\n",
    "plt.legend(loc='upper left', prop={'size': 15})\n",
    "plt.xticks(range(0,26,5))\n",
    "plt.xlabel('max_depth', size=20)\n",
    "plt.ylabel('accuracy', size=20)\n",
    "plt.show()\n"
   ]
  },
  {
   "cell_type": "markdown",
   "id": "dense-gentleman",
   "metadata": {},
   "source": [
    "We see that the best score for test data is obtained when max_depth has a value of 14."
   ]
  },
  {
   "cell_type": "markdown",
   "id": "controversial-sleep",
   "metadata": {},
   "source": [
    "As we keep increasing the value of this parameter, test accuracy remains the same or gets worse, but the training accuracy keeps increasing. It means that our simple decision tree model keeps learning about the training data better and better with an increase in max_depth, but the performance on test data does not improve at all.\n",
    "<br>\n",
    "This is called overfitting."
   ]
  },
  {
   "cell_type": "markdown",
   "id": "broke-gateway",
   "metadata": {},
   "source": [
    "The model fits perfectly on the training set and performs poorly when it comes to\n",
    "the test set. This means that the model will learn the training data well but will not\n",
    "generalize on unseen samples. In the dataset above, one can build a model with very\n",
    "high max_depth which will have outstanding results on training data, but that kind\n",
    "of model is not useful as it will not provide a similar result on the real-world samples\n",
    "or live data."
   ]
  },
  {
   "cell_type": "markdown",
   "id": "exciting-failure",
   "metadata": {},
   "source": [
    "One might argue that this approach isn’t overfitting as the accuracy of the test set\n",
    "more or less remains the same. **Another definition of overfitting would be when the\n",
    "test loss increases as we keep improving training loss.** This is very common when\n",
    "it comes to neural networks."
   ]
  },
  {
   "cell_type": "markdown",
   "id": "assumed-particular",
   "metadata": {},
   "source": [
    "If the model's prediction is perfect, the **loss** is zero; otherwise, the loss is greater."
   ]
  },
  {
   "cell_type": "markdown",
   "id": "industrial-commitment",
   "metadata": {},
   "source": [
    "Whenever we train a neural network, we must monitor loss during the training time\n",
    "for both training and test set. If we have a very large network for a dataset which is\n",
    "quite small (i.e. very less number of samples), we will observe that the loss for both\n",
    "training and test set will decrease as we keep training. However, at some point, test\n",
    "loss will reach its minima, and after that, it will start increasing even though training\n",
    "loss decreases further. We must stop training where the validation loss reaches its\n",
    "minimum value."
   ]
  },
  {
   "cell_type": "markdown",
   "id": "institutional-project",
   "metadata": {},
   "source": [
    "**Now we can go back to cross-validation.**"
   ]
  },
  {
   "cell_type": "markdown",
   "id": "owned-printing",
   "metadata": {},
   "source": [
    "While explaining about overfitting, I decided to divide the data into two parts. I\n",
    "trained the model on one part and checked its performance on the other part. Well,\n",
    "this is also a kind of cross-validation commonly known as a **hold-out set.**"
   ]
  },
  {
   "cell_type": "markdown",
   "id": "consecutive-mississippi",
   "metadata": {},
   "source": [
    "There are many different ways one can do cross-validation, and it is the most critical\n",
    "step when it comes to building a good machine learning model which is\n",
    "generalizable when it comes to unseen data.\n",
    "<br>\n",
    "**Choosing the right cross-validation**\n",
    "depends on the dataset you are dealing with"
   ]
  },
  {
   "cell_type": "markdown",
   "id": "sixth-surrey",
   "metadata": {},
   "source": [
    "**some of the most used cross-validation techniques**\n",
    "<br>\n",
    "• k-fold cross-validation\n",
    "<br>\n",
    "• stratified k-fold cross-validation\n",
    "<br>\n",
    "• hold-out based validation\n",
    "<br>\n",
    "• leave-one-out cross-validation\n",
    "<br>\n",
    "• group k-fold cross-validation"
   ]
  },
  {
   "cell_type": "markdown",
   "id": "dated-yellow",
   "metadata": {},
   "source": [
    "We can divide the data into k different sets which are exclusive of each other. This\n",
    "is known as **k-fold cross-validation.**"
   ]
  },
  {
   "cell_type": "markdown",
   "id": "sapphire-lotus",
   "metadata": {},
   "source": [
    "We can split any data into k-equal parts using KFold from scikit-learn. Each sample\n",
    "is assigned a value from 0 to k-1 when using k-fold cross validation."
   ]
  },
  {
   "cell_type": "code",
   "execution_count": 14,
   "id": "liberal-hurricane",
   "metadata": {},
   "outputs": [],
   "source": [
    "# import pandas and model_selection module of scikit-learn\n",
    "import pandas as pd\n",
    "from sklearn import model_selection\n",
    "\n",
    "if __name__ == '__main__':\n",
    "    # Training data is in a CSV file called train.csv\n",
    "    df = pd.read_csv('winequality-red.csv')\n",
    "    \n",
    "    # we create a new column called kfold and fill it with -1\n",
    "    df['kfold'] = -1\n",
    "    \n",
    "    # the next step is to randomize the rows of the data\n",
    "    df = df.sample(frac=1).reset_index(drop=True)\n",
    "    \n",
    "    # initiate the kfold class from model_selection module\n",
    "    kf = model_selection.KFold(n_splits=5)\n",
    "    \n",
    "    # fill the new kfold column\n",
    "    for fold, (trn_, val_) in enumerate(kf.split(X=df)):\n",
    "        df.loc[val_, 'kfold'] = fold\n",
    "        \n",
    "    # save the new csv with kfold column\n",
    "    df.to_csv('winequality-red_n_folds.csv', index=False)"
   ]
  },
  {
   "cell_type": "markdown",
   "id": "political-indication",
   "metadata": {},
   "source": [
    "If you have a\n",
    "skewed dataset for binary classification with 90% positive samples and only 10%\n",
    "negative samples,In these cases, we prefer using **stratified k-fold cross-validation.**\n",
    "Stratified k-fold cross-validation keeps the ratio of labels in each fold constant.\n",
    "<br>\n",
    "**we specify the\n",
    "target column on which we want to stratify**"
   ]
  },
  {
   "cell_type": "code",
   "execution_count": 15,
   "id": "prime-statement",
   "metadata": {},
   "outputs": [],
   "source": [
    "# import pandas and model_selection module of scikit-learn\n",
    "import pandas as pd\n",
    "from sklearn import model_selection\n",
    "\n",
    "if __name__ == '__main__':\n",
    "    # Training data is in a CSV file called train.csv\n",
    "    df = pd.read_csv('winequality-red.csv')\n",
    "    \n",
    "    # we create a new column called kfold and fill it with -1\n",
    "    df['kfold'] = -1\n",
    "    \n",
    "    # the next step is to randomize the rows of the data\n",
    "    df = df.sample(frac=1).reset_index(drop=True)\n",
    "    \n",
    "    # fetch targets\n",
    "    y = df['quality'].values\n",
    "    \n",
    "    # initiate the kfold class from model_selection module\n",
    "    kf = model_selection.StratifiedKFold(n_splits=5)\n",
    "    \n",
    "    # fill the new kfold column\n",
    "    for fold, (t_, val_) in enumerate(kf.split(X=df, y=y)):\n",
    "        df.loc[val_, 'kfold'] = fold\n",
    "        \n",
    "    # save the new csv with kfold column\n",
    "    df.to_csv('winequality-red_StratifieldKFold.csv', index=False)"
   ]
  },
  {
   "cell_type": "markdown",
   "id": "standard-friendly",
   "metadata": {},
   "source": [
    "The rule is simple. If it’s a standard classification problem, choose stratified k-fold\n",
    "blindly."
   ]
  },
  {
   "cell_type": "markdown",
   "id": "designed-enlargement",
   "metadata": {},
   "source": [
    "But what should we do if we have a large amount of data? Suppose we have 1\n",
    "million samples. A 5 fold cross-validation would mean training on 800k samples\n",
    "and validating on 200k. Depending on which algorithm we choose, training and\n",
    "even validation can be very expensive for a dataset which is of this size. In these\n",
    "cases, we can opt for a **hold-out based validation.**"
   ]
  },
  {
   "cell_type": "markdown",
   "id": "adopted-interview",
   "metadata": {},
   "source": [
    "The process for creating the hold-out remains the same as stratified k-fold, but For a\n",
    "dataset which has 1 million samples,we will have 100k samples in the holdout,\n",
    "and we will always calculate loss, accuracy and other metrics on this set and\n",
    "train on 900k samples."
   ]
  },
  {
   "cell_type": "markdown",
   "id": "architectural-grave",
   "metadata": {},
   "source": [
    "Hold-out is also used very frequently with **time-series data**."
   ]
  },
  {
   "cell_type": "markdown",
   "id": "textile-miracle",
   "metadata": {},
   "source": [
    "Now we can move to regression. The good thing about regression problems is that\n",
    "we can use all the cross-validation techniques mentioned above for regression\n",
    "problems except for stratified k-fold."
   ]
  },
  {
   "cell_type": "markdown",
   "id": "french-environment",
   "metadata": {},
   "source": [
    "To use **stratified k-fold for a regression** problem, we have first to divide the target\n",
    "into bins, and then we can use stratified k-fold in the same way as for classification\n",
    "problems."
   ]
  },
  {
   "cell_type": "markdown",
   "id": "sweet-elements",
   "metadata": {},
   "source": [
    "you can use a simple rule like **Sturge’s Rule** to calculate the appropriate\n",
    "number of bins.\n",
    "<br>\n",
    "Number of Bins = 1 + log2(N)\n",
    "<br>\n",
    "example : num_bins = int(np.floor(1 + np.log2(len(data))))"
   ]
  },
  {
   "cell_type": "code",
   "execution_count": 16,
   "id": "laughing-anaheim",
   "metadata": {},
   "outputs": [],
   "source": [
    "# stratified-kfold for regression\n",
    "import numpy as np\n",
    "import pandas as pd\n",
    "\n",
    "from sklearn import datasets\n",
    "from sklearn import model_selection\n",
    "\n",
    "def create_folds(data):\n",
    "    # we create a new column called kfold and fill it with -1\n",
    "    data[\"kfold\"] = -1\n",
    "    \n",
    "    # the next step is to randomize the rows of the data\n",
    "    data = data.sample(frac=1).reset_index(drop=True)\n",
    "    \n",
    "    # calculate the number of bins by Sturge's rule\n",
    "    # I take the floor of the value, you can also\n",
    "    # just round it\n",
    "    num_bins = int(np.floor(1 + np.log2(len(data))))\n",
    "    \n",
    "    # bin targets\n",
    "    data.loc[:, \"bins\"] = pd.cut(\n",
    "        data[\"target\"], bins=num_bins, labels=False\n",
    "    )\n",
    "    \n",
    "    # initiate the kfold class from model_selection module\n",
    "    kf = model_selection.StratifiedKFold(n_splits=5)\n",
    "    \n",
    "    # fill the new kfold column\n",
    "    # note that, instead of targets, we use bins!\n",
    "    for f, (t_, v_) in enumerate(kf.split(X=data, y=data.bins.values)):\n",
    "        data.loc[v_, 'kfold'] = f\n",
    "        \n",
    "    # drop the bins column\n",
    "    data = data.drop(\"bins\", axis=1)    \n",
    "    # return dataframe with folds\n",
    "    return data\n",
    "\n",
    "if __name__ == \"__main__\":\n",
    "    # we create a sample dataset with 15000 samples\n",
    "    # and 100 features and 1 target\n",
    "    X, y = datasets.make_regression(\n",
    "        n_samples=15000, n_features=100, n_targets=1\n",
    "    )\n",
    "    \n",
    "    # create a dataframe out of our numpy arrays\n",
    "    df = pd.DataFrame(\n",
    "        X,\n",
    "        columns=[f\"f_{i}\" for i in range(X.shape[1])]\n",
    "    )\n",
    "    df.loc[:, \"target\"] = y\n",
    "    \n",
    "    # create folds\n",
    "    df = create_folds(df)"
   ]
  },
  {
   "cell_type": "markdown",
   "id": "mediterranean-german",
   "metadata": {},
   "source": [
    "Cross-validation is the first and most essential step when it comes to building\n",
    "machine learning models."
   ]
  },
  {
   "cell_type": "markdown",
   "id": "solar-contrast",
   "metadata": {},
   "source": [
    "The types of cross-validation presented in this chapter can be applied to almost any\n",
    "machine learning problem. Still, you must keep in mind that cross-validation also\n",
    "depends a lot on the data and you might need to adopt new forms of cross-validation\n",
    "depending on your problem and data."
   ]
  },
  {
   "cell_type": "code",
   "execution_count": null,
   "id": "narrative-subcommittee",
   "metadata": {},
   "outputs": [],
   "source": []
  }
 ],
 "metadata": {
  "kernelspec": {
   "display_name": "Python 3",
   "language": "python",
   "name": "python3"
  },
  "language_info": {
   "codemirror_mode": {
    "name": "ipython",
    "version": 3
   },
   "file_extension": ".py",
   "mimetype": "text/x-python",
   "name": "python",
   "nbconvert_exporter": "python",
   "pygments_lexer": "ipython3",
   "version": "3.6.8"
  }
 },
 "nbformat": 4,
 "nbformat_minor": 5
}
