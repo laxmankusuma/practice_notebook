{
 "cells": [
  {
   "cell_type": "markdown",
   "id": "noble-empty",
   "metadata": {},
   "source": [
    "# by Abhishek Thakur"
   ]
  },
  {
   "cell_type": "markdown",
   "id": "absent-radio",
   "metadata": {},
   "source": [
    "# Arranging machine learning projects"
   ]
  },
  {
   "cell_type": "code",
   "execution_count": 1,
   "id": "precious-fleet",
   "metadata": {},
   "outputs": [
    {
     "data": {
      "text/plain": [
       "'\\n├── input\\n│ ├── train.csv\\n│ └── test.csv\\n├── src\\n│ ├── create_folds.py\\n│ ├── train.py\\n│ ├── inference.py\\n│ ├── models.py\\n│ ├── config.py\\n│ └── model_dispatcher.py\\n├── models\\n│ ├── model_rf.bin\\n│ └── model_et.bin\\n├── notebooks\\n│ ├── exploration.ipynb\\n│ └── check_data.ipynb\\n├── README.md\\n└── LICENSE\\n'"
      ]
     },
     "execution_count": 1,
     "metadata": {},
     "output_type": "execute_result"
    }
   ],
   "source": [
    "# The inside of the project folder should look something like the following.\n",
    "'''\n",
    "├── input\n",
    "│ ├── train.csv\n",
    "│ └── test.csv\n",
    "├── src\n",
    "│ ├── create_folds.py\n",
    "│ ├── train.py\n",
    "│ ├── inference.py\n",
    "│ ├── models.py\n",
    "│ ├── config.py\n",
    "│ └── model_dispatcher.py\n",
    "├── models\n",
    "│ ├── model_rf.bin\n",
    "│ └── model_et.bin\n",
    "├── notebooks\n",
    "│ ├── exploration.ipynb\n",
    "│ └── check_data.ipynb\n",
    "├── README.md\n",
    "└── LICENSE\n",
    "'''"
   ]
  },
  {
   "cell_type": "markdown",
   "id": "nervous-duplicate",
   "metadata": {},
   "source": [
    "input/: This folder consists of all the input files\n",
    "<br>\n",
    "src/: We will keep all the python scripts associated with the project here. If I talk\n",
    "about a python script, i.e. any *.py file, it is stored in the src folder.\n",
    "<br>\n",
    "models/: This folder keeps all the trained models.\n",
    "<br>\n",
    "notebooks/: All jupyter notebooks (i.e. any *.ipynb file) are stored in the notebooks\n",
    "folder.\n",
    "<br>\n",
    "README.md: This is a markdown file where you can describe your project and\n",
    "write instructions on how to train the model or to serve this in a production\n",
    "environment.\n",
    "<br>\n",
    "LICENSE: This is a simple text file that consists of a license for the project, such as\n",
    "MIT, Apache, etc."
   ]
  },
  {
   "cell_type": "markdown",
   "id": "funded-rebound",
   "metadata": {},
   "source": [
    "If the distribution of labels is quite good and even. We can thus use\n",
    "accuracy/F1 as metrics. This is the first step when approaching a machine learning\n",
    "problem: decide the metric!"
   ]
  },
  {
   "cell_type": "code",
   "execution_count": 2,
   "id": "assured-dating",
   "metadata": {},
   "outputs": [
    {
     "name": "stdout",
     "output_type": "stream",
     "text": [
      "Fold=0, Accuracy=0.60625\n",
      "Fold=1, Accuracy=0.603125\n",
      "Fold=2, Accuracy=0.571875\n",
      "Fold=3, Accuracy=0.6125\n",
      "Fold=4, Accuracy=0.5830721003134797\n"
     ]
    }
   ],
   "source": [
    "# src/train.py\n",
    "\n",
    "import joblib\n",
    "import pandas as pd\n",
    "from sklearn import metrics\n",
    "from sklearn import tree\n",
    "\n",
    "def run(fold):\n",
    "    # read the training data with folds\n",
    "    df = pd.read_csv(\"/home/hduser/jupyter/winequality-red_n_folds.csv\")\n",
    "    # training data is where kfold is not equal to provided fold\n",
    "    # also, note that we reset the index\n",
    "    df_train = df[df['kfold'] != fold].reset_index(drop=True)\n",
    "    \n",
    "    # validation data is where kfold is equal to provided fold\n",
    "    df_valid = df[df['kfold'] == fold].reset_index(drop=True)\n",
    "    \n",
    "    # drop the label column from dataframe and convert it to\n",
    "    # a numpy array by using .values.\n",
    "    # target is label column in the dataframe\n",
    "    x_train = df_train.drop('quality', axis=1).values\n",
    "    y_train = df_train['quality'].values\n",
    "    \n",
    "    # similarly, for validation, we have\n",
    "    x_valid = df_valid.drop(\"quality\", axis=1).values\n",
    "    y_valid = df_valid['quality'].values\n",
    "\n",
    "    # initialize simple decision tree classifier from sklearn\n",
    "    clf = tree.DecisionTreeClassifier()\n",
    "    \n",
    "    # fit the model on training data\n",
    "    clf.fit(x_train, y_train)\n",
    "    \n",
    "    # create predictions for validation samples\n",
    "    preds = clf.predict(x_valid)\n",
    "    \n",
    "    # calculate & print accuracy\n",
    "    accuracy = metrics.accuracy_score(y_valid, preds)\n",
    "    print(f\"Fold={fold}, Accuracy={accuracy}\")\n",
    "    \n",
    "    # save the model\n",
    "    joblib.dump(clf, f\"/home/hduser/jupyter/dt_{fold}.bin\")\n",
    "    \n",
    "    \n",
    "if __name__ == \"__main__\":\n",
    "    run(fold=0)\n",
    "    run(fold=1)\n",
    "    run(fold=2)\n",
    "    run(fold=3)\n",
    "    run(fold=4)"
   ]
  },
  {
   "cell_type": "markdown",
   "id": "fewer-dealer",
   "metadata": {},
   "source": [
    "You can run this script by calling **python train.py** in the console."
   ]
  },
  {
   "cell_type": "markdown",
   "id": "military-degree",
   "metadata": {},
   "source": [
    "below 5 files are creating in the location\n",
    "<br>\n",
    "dt_0.bin\n",
    "<br>\n",
    "dt_1.bin\n",
    "<br>\n",
    "dt_2.bin\n",
    "<br>\n",
    "dt_3.bin\n",
    "<br>\n",
    "dt_4.bin"
   ]
  },
  {
   "cell_type": "code",
   "execution_count": null,
   "id": "surrounded-westminster",
   "metadata": {},
   "outputs": [],
   "source": []
  }
 ],
 "metadata": {
  "kernelspec": {
   "display_name": "Python 3",
   "language": "python",
   "name": "python3"
  },
  "language_info": {
   "codemirror_mode": {
    "name": "ipython",
    "version": 3
   },
   "file_extension": ".py",
   "mimetype": "text/x-python",
   "name": "python",
   "nbconvert_exporter": "python",
   "pygments_lexer": "ipython3",
   "version": "3.6.8"
  }
 },
 "nbformat": 4,
 "nbformat_minor": 5
}
